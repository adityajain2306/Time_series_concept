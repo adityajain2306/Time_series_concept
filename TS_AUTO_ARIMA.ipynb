{
 "cells": [
  {
   "cell_type": "markdown",
   "metadata": {
    "id": "Tg-3UNprsrxq"
   },
   "source": [
    "# Forecast coal consumption\n",
    "\n",
    "- Time series AUTO Arima for forecasting\n",
    "\n",
    "- Time series as regression of lag values"
   ]
  },
  {
   "cell_type": "code",
   "execution_count": 1,
   "metadata": {
    "id": "USZle_i4sewN"
   },
   "outputs": [],
   "source": [
    "import pandas as pd"
   ]
  },
  {
   "cell_type": "code",
   "execution_count": 2,
   "metadata": {
    "id": "ckjnGJz2H9ds"
   },
   "outputs": [],
   "source": [
    "df = pd.read_csv(\"Coal Consumption.csv\")"
   ]
  },
  {
   "cell_type": "code",
   "execution_count": 3,
   "metadata": {
    "colab": {
     "base_uri": "https://localhost:8080/"
    },
    "executionInfo": {
     "elapsed": 383,
     "status": "ok",
     "timestamp": 1674636697798,
     "user": {
      "displayName": "IACSD Akurdi",
      "userId": "10433988175144222979"
     },
     "user_tz": -330
    },
    "id": "Gel8BF56H_qn",
    "outputId": "e2bd7265-758d-444d-886c-cb7a8bc9ec27"
   },
   "outputs": [
    {
     "name": "stdout",
     "output_type": "stream",
     "text": [
      "<class 'pandas.core.frame.DataFrame'>\n",
      "RangeIndex: 132 entries, 0 to 131\n",
      "Data columns (total 4 columns):\n",
      " #   Column         Non-Null Count  Dtype  \n",
      "---  ------         --------------  -----  \n",
      " 0   Month          132 non-null    object \n",
      " 1   Amount         132 non-null    float64\n",
      " 2   Extract_month  132 non-null    int64  \n",
      " 3   Extract Year   132 non-null    int64  \n",
      "dtypes: float64(1), int64(2), object(1)\n",
      "memory usage: 4.2+ KB\n"
     ]
    }
   ],
   "source": [
    "df.info()"
   ]
  },
  {
   "cell_type": "code",
   "execution_count": 5,
   "metadata": {
    "id": "QDwSxuSds954"
   },
   "outputs": [],
   "source": [
    "df = pd.read_csv(\"Coal Consumption.csv\",\n",
    "                 parse_dates=['Month'])\n",
    "# date format is MM - DD - YYYY"
   ]
  },
  {
   "cell_type": "code",
   "execution_count": 6,
   "metadata": {
    "colab": {
     "base_uri": "https://localhost:8080/"
    },
    "executionInfo": {
     "elapsed": 363,
     "status": "ok",
     "timestamp": 1674636799864,
     "user": {
      "displayName": "IACSD Akurdi",
      "userId": "10433988175144222979"
     },
     "user_tz": -330
    },
    "id": "X4nbmNmhtBaB",
    "outputId": "aeb9366e-cce9-46b7-f1e5-3862dff2e518"
   },
   "outputs": [
    {
     "name": "stdout",
     "output_type": "stream",
     "text": [
      "<class 'pandas.core.frame.DataFrame'>\n",
      "RangeIndex: 132 entries, 0 to 131\n",
      "Data columns (total 4 columns):\n",
      " #   Column         Non-Null Count  Dtype         \n",
      "---  ------         --------------  -----         \n",
      " 0   Month          132 non-null    datetime64[ns]\n",
      " 1   Amount         132 non-null    float64       \n",
      " 2   Extract_month  132 non-null    int64         \n",
      " 3   Extract Year   132 non-null    int64         \n",
      "dtypes: datetime64[ns](1), float64(1), int64(2)\n",
      "memory usage: 4.2 KB\n"
     ]
    }
   ],
   "source": [
    "df.info()"
   ]
  },
  {
   "cell_type": "code",
   "execution_count": 7,
   "metadata": {
    "colab": {
     "base_uri": "https://localhost:8080/",
     "height": 206
    },
    "executionInfo": {
     "elapsed": 398,
     "status": "ok",
     "timestamp": 1674636856975,
     "user": {
      "displayName": "IACSD Akurdi",
      "userId": "10433988175144222979"
     },
     "user_tz": -330
    },
    "id": "u9US1Y_ltCXA",
    "outputId": "f4eb982b-bf4e-453e-95e6-c4e783e52174"
   },
   "outputs": [
    {
     "data": {
      "text/html": [
       "<div>\n",
       "<style scoped>\n",
       "    .dataframe tbody tr th:only-of-type {\n",
       "        vertical-align: middle;\n",
       "    }\n",
       "\n",
       "    .dataframe tbody tr th {\n",
       "        vertical-align: top;\n",
       "    }\n",
       "\n",
       "    .dataframe thead th {\n",
       "        text-align: right;\n",
       "    }\n",
       "</style>\n",
       "<table border=\"1\" class=\"dataframe\">\n",
       "  <thead>\n",
       "    <tr style=\"text-align: right;\">\n",
       "      <th></th>\n",
       "      <th>Month</th>\n",
       "      <th>Amount</th>\n",
       "      <th>Extract_month</th>\n",
       "      <th>Extract Year</th>\n",
       "    </tr>\n",
       "  </thead>\n",
       "  <tbody>\n",
       "    <tr>\n",
       "      <th>0</th>\n",
       "      <td>1990-01-01</td>\n",
       "      <td>16.50</td>\n",
       "      <td>1</td>\n",
       "      <td>1990</td>\n",
       "    </tr>\n",
       "    <tr>\n",
       "      <th>1</th>\n",
       "      <td>1990-02-01</td>\n",
       "      <td>15.17</td>\n",
       "      <td>2</td>\n",
       "      <td>1990</td>\n",
       "    </tr>\n",
       "    <tr>\n",
       "      <th>2</th>\n",
       "      <td>1990-03-01</td>\n",
       "      <td>12.75</td>\n",
       "      <td>3</td>\n",
       "      <td>1990</td>\n",
       "    </tr>\n",
       "    <tr>\n",
       "      <th>3</th>\n",
       "      <td>1990-04-01</td>\n",
       "      <td>12.31</td>\n",
       "      <td>4</td>\n",
       "      <td>1990</td>\n",
       "    </tr>\n",
       "    <tr>\n",
       "      <th>4</th>\n",
       "      <td>1990-05-01</td>\n",
       "      <td>8.34</td>\n",
       "      <td>5</td>\n",
       "      <td>1990</td>\n",
       "    </tr>\n",
       "  </tbody>\n",
       "</table>\n",
       "</div>"
      ],
      "text/plain": [
       "       Month  Amount  Extract_month  Extract Year\n",
       "0 1990-01-01   16.50              1          1990\n",
       "1 1990-02-01   15.17              2          1990\n",
       "2 1990-03-01   12.75              3          1990\n",
       "3 1990-04-01   12.31              4          1990\n",
       "4 1990-05-01    8.34              5          1990"
      ]
     },
     "execution_count": 7,
     "metadata": {},
     "output_type": "execute_result"
    }
   ],
   "source": [
    "df.head()"
   ]
  },
  {
   "cell_type": "code",
   "execution_count": 8,
   "metadata": {
    "id": "jk8gDtRztQUC"
   },
   "outputs": [],
   "source": [
    "#df['month'] = pd.to_datetime(df['Month'], infer_datetime_format=True)# format='%m-%y')"
   ]
  },
  {
   "cell_type": "markdown",
   "metadata": {
    "id": "6JOoVkl6GHQv"
   },
   "source": [
    "## Set Columns related to Date / time as index and sort over it"
   ]
  },
  {
   "cell_type": "code",
   "execution_count": 9,
   "metadata": {
    "id": "udkymGXhJMDq"
   },
   "outputs": [],
   "source": [
    "df.set_index('Month', inplace=True)"
   ]
  },
  {
   "cell_type": "code",
   "execution_count": 10,
   "metadata": {
    "colab": {
     "base_uri": "https://localhost:8080/",
     "height": 237
    },
    "executionInfo": {
     "elapsed": 31,
     "status": "ok",
     "timestamp": 1674637092138,
     "user": {
      "displayName": "IACSD Akurdi",
      "userId": "10433988175144222979"
     },
     "user_tz": -330
    },
    "id": "NnEAO9zZJgkS",
    "outputId": "e01c5f6d-21c7-49f8-ac75-74846aa314b2"
   },
   "outputs": [
    {
     "data": {
      "text/html": [
       "<div>\n",
       "<style scoped>\n",
       "    .dataframe tbody tr th:only-of-type {\n",
       "        vertical-align: middle;\n",
       "    }\n",
       "\n",
       "    .dataframe tbody tr th {\n",
       "        vertical-align: top;\n",
       "    }\n",
       "\n",
       "    .dataframe thead th {\n",
       "        text-align: right;\n",
       "    }\n",
       "</style>\n",
       "<table border=\"1\" class=\"dataframe\">\n",
       "  <thead>\n",
       "    <tr style=\"text-align: right;\">\n",
       "      <th></th>\n",
       "      <th>Amount</th>\n",
       "      <th>Extract_month</th>\n",
       "      <th>Extract Year</th>\n",
       "    </tr>\n",
       "    <tr>\n",
       "      <th>Month</th>\n",
       "      <th></th>\n",
       "      <th></th>\n",
       "      <th></th>\n",
       "    </tr>\n",
       "  </thead>\n",
       "  <tbody>\n",
       "    <tr>\n",
       "      <th>1990-01-01</th>\n",
       "      <td>16.50</td>\n",
       "      <td>1</td>\n",
       "      <td>1990</td>\n",
       "    </tr>\n",
       "    <tr>\n",
       "      <th>1990-02-01</th>\n",
       "      <td>15.17</td>\n",
       "      <td>2</td>\n",
       "      <td>1990</td>\n",
       "    </tr>\n",
       "    <tr>\n",
       "      <th>1990-03-01</th>\n",
       "      <td>12.75</td>\n",
       "      <td>3</td>\n",
       "      <td>1990</td>\n",
       "    </tr>\n",
       "    <tr>\n",
       "      <th>1990-04-01</th>\n",
       "      <td>12.31</td>\n",
       "      <td>4</td>\n",
       "      <td>1990</td>\n",
       "    </tr>\n",
       "    <tr>\n",
       "      <th>1990-05-01</th>\n",
       "      <td>8.34</td>\n",
       "      <td>5</td>\n",
       "      <td>1990</td>\n",
       "    </tr>\n",
       "  </tbody>\n",
       "</table>\n",
       "</div>"
      ],
      "text/plain": [
       "            Amount  Extract_month  Extract Year\n",
       "Month                                          \n",
       "1990-01-01   16.50              1          1990\n",
       "1990-02-01   15.17              2          1990\n",
       "1990-03-01   12.75              3          1990\n",
       "1990-04-01   12.31              4          1990\n",
       "1990-05-01    8.34              5          1990"
      ]
     },
     "execution_count": 10,
     "metadata": {},
     "output_type": "execute_result"
    }
   ],
   "source": [
    "df.head()"
   ]
  },
  {
   "cell_type": "code",
   "execution_count": 11,
   "metadata": {
    "colab": {
     "base_uri": "https://localhost:8080/",
     "height": 457
    },
    "executionInfo": {
     "elapsed": 17,
     "status": "ok",
     "timestamp": 1674637335260,
     "user": {
      "displayName": "IACSD Akurdi",
      "userId": "10433988175144222979"
     },
     "user_tz": -330
    },
    "id": "ZI_gZxq0KcA_",
    "outputId": "4d3faa7b-84ce-4e3d-98da-b0c613b4b9cb"
   },
   "outputs": [
    {
     "data": {
      "text/html": [
       "<div>\n",
       "<style scoped>\n",
       "    .dataframe tbody tr th:only-of-type {\n",
       "        vertical-align: middle;\n",
       "    }\n",
       "\n",
       "    .dataframe tbody tr th {\n",
       "        vertical-align: top;\n",
       "    }\n",
       "\n",
       "    .dataframe thead th {\n",
       "        text-align: right;\n",
       "    }\n",
       "</style>\n",
       "<table border=\"1\" class=\"dataframe\">\n",
       "  <thead>\n",
       "    <tr style=\"text-align: right;\">\n",
       "      <th></th>\n",
       "      <th>Amount</th>\n",
       "      <th>Extract_month</th>\n",
       "      <th>Extract Year</th>\n",
       "    </tr>\n",
       "    <tr>\n",
       "      <th>Month</th>\n",
       "      <th></th>\n",
       "      <th></th>\n",
       "      <th></th>\n",
       "    </tr>\n",
       "  </thead>\n",
       "  <tbody>\n",
       "    <tr>\n",
       "      <th>1990-01-01</th>\n",
       "      <td>16.50</td>\n",
       "      <td>1</td>\n",
       "      <td>1990</td>\n",
       "    </tr>\n",
       "    <tr>\n",
       "      <th>1990-02-01</th>\n",
       "      <td>15.17</td>\n",
       "      <td>2</td>\n",
       "      <td>1990</td>\n",
       "    </tr>\n",
       "    <tr>\n",
       "      <th>1990-03-01</th>\n",
       "      <td>12.75</td>\n",
       "      <td>3</td>\n",
       "      <td>1990</td>\n",
       "    </tr>\n",
       "    <tr>\n",
       "      <th>1990-04-01</th>\n",
       "      <td>12.31</td>\n",
       "      <td>4</td>\n",
       "      <td>1990</td>\n",
       "    </tr>\n",
       "    <tr>\n",
       "      <th>1990-05-01</th>\n",
       "      <td>8.34</td>\n",
       "      <td>5</td>\n",
       "      <td>1990</td>\n",
       "    </tr>\n",
       "    <tr>\n",
       "      <th>1990-06-01</th>\n",
       "      <td>8.63</td>\n",
       "      <td>6</td>\n",
       "      <td>1990</td>\n",
       "    </tr>\n",
       "    <tr>\n",
       "      <th>1990-07-01</th>\n",
       "      <td>12.37</td>\n",
       "      <td>7</td>\n",
       "      <td>1990</td>\n",
       "    </tr>\n",
       "    <tr>\n",
       "      <th>1990-08-01</th>\n",
       "      <td>11.53</td>\n",
       "      <td>8</td>\n",
       "      <td>1990</td>\n",
       "    </tr>\n",
       "    <tr>\n",
       "      <th>1990-09-01</th>\n",
       "      <td>9.47</td>\n",
       "      <td>9</td>\n",
       "      <td>1990</td>\n",
       "    </tr>\n",
       "    <tr>\n",
       "      <th>1990-10-01</th>\n",
       "      <td>9.57</td>\n",
       "      <td>10</td>\n",
       "      <td>1990</td>\n",
       "    </tr>\n",
       "    <tr>\n",
       "      <th>1990-11-01</th>\n",
       "      <td>14.44</td>\n",
       "      <td>11</td>\n",
       "      <td>1990</td>\n",
       "    </tr>\n",
       "    <tr>\n",
       "      <th>1990-12-01</th>\n",
       "      <td>24.50</td>\n",
       "      <td>12</td>\n",
       "      <td>1990</td>\n",
       "    </tr>\n",
       "  </tbody>\n",
       "</table>\n",
       "</div>"
      ],
      "text/plain": [
       "            Amount  Extract_month  Extract Year\n",
       "Month                                          \n",
       "1990-01-01   16.50              1          1990\n",
       "1990-02-01   15.17              2          1990\n",
       "1990-03-01   12.75              3          1990\n",
       "1990-04-01   12.31              4          1990\n",
       "1990-05-01    8.34              5          1990\n",
       "1990-06-01    8.63              6          1990\n",
       "1990-07-01   12.37              7          1990\n",
       "1990-08-01   11.53              8          1990\n",
       "1990-09-01    9.47              9          1990\n",
       "1990-10-01    9.57             10          1990\n",
       "1990-11-01   14.44             11          1990\n",
       "1990-12-01   24.50             12          1990"
      ]
     },
     "execution_count": 11,
     "metadata": {},
     "output_type": "execute_result"
    }
   ],
   "source": [
    "df.loc['1990']"
   ]
  },
  {
   "cell_type": "code",
   "execution_count": 12,
   "metadata": {
    "colab": {
     "base_uri": "https://localhost:8080/",
     "height": 551
    },
    "executionInfo": {
     "elapsed": 512,
     "status": "ok",
     "timestamp": 1674637300668,
     "user": {
      "displayName": "IACSD Akurdi",
      "userId": "10433988175144222979"
     },
     "user_tz": -330
    },
    "id": "4etpJu60JnbB",
    "outputId": "2acc7e79-0e59-4985-dccf-9e1ba49abd18"
   },
   "outputs": [
    {
     "data": {
      "text/html": [
       "<div>\n",
       "<style scoped>\n",
       "    .dataframe tbody tr th:only-of-type {\n",
       "        vertical-align: middle;\n",
       "    }\n",
       "\n",
       "    .dataframe tbody tr th {\n",
       "        vertical-align: top;\n",
       "    }\n",
       "\n",
       "    .dataframe thead th {\n",
       "        text-align: right;\n",
       "    }\n",
       "</style>\n",
       "<table border=\"1\" class=\"dataframe\">\n",
       "  <thead>\n",
       "    <tr style=\"text-align: right;\">\n",
       "      <th></th>\n",
       "      <th>Amount</th>\n",
       "      <th>Extract_month</th>\n",
       "      <th>Extract Year</th>\n",
       "    </tr>\n",
       "    <tr>\n",
       "      <th>Month</th>\n",
       "      <th></th>\n",
       "      <th></th>\n",
       "      <th></th>\n",
       "    </tr>\n",
       "  </thead>\n",
       "  <tbody>\n",
       "    <tr>\n",
       "      <th>1990-01-01</th>\n",
       "      <td>16.50</td>\n",
       "      <td>1</td>\n",
       "      <td>1990</td>\n",
       "    </tr>\n",
       "    <tr>\n",
       "      <th>1990-02-01</th>\n",
       "      <td>15.17</td>\n",
       "      <td>2</td>\n",
       "      <td>1990</td>\n",
       "    </tr>\n",
       "    <tr>\n",
       "      <th>1990-03-01</th>\n",
       "      <td>12.75</td>\n",
       "      <td>3</td>\n",
       "      <td>1990</td>\n",
       "    </tr>\n",
       "    <tr>\n",
       "      <th>1990-04-01</th>\n",
       "      <td>12.31</td>\n",
       "      <td>4</td>\n",
       "      <td>1990</td>\n",
       "    </tr>\n",
       "    <tr>\n",
       "      <th>1990-05-01</th>\n",
       "      <td>8.34</td>\n",
       "      <td>5</td>\n",
       "      <td>1990</td>\n",
       "    </tr>\n",
       "    <tr>\n",
       "      <th>1990-06-01</th>\n",
       "      <td>8.63</td>\n",
       "      <td>6</td>\n",
       "      <td>1990</td>\n",
       "    </tr>\n",
       "    <tr>\n",
       "      <th>1990-07-01</th>\n",
       "      <td>12.37</td>\n",
       "      <td>7</td>\n",
       "      <td>1990</td>\n",
       "    </tr>\n",
       "    <tr>\n",
       "      <th>1990-08-01</th>\n",
       "      <td>11.53</td>\n",
       "      <td>8</td>\n",
       "      <td>1990</td>\n",
       "    </tr>\n",
       "    <tr>\n",
       "      <th>1990-09-01</th>\n",
       "      <td>9.47</td>\n",
       "      <td>9</td>\n",
       "      <td>1990</td>\n",
       "    </tr>\n",
       "    <tr>\n",
       "      <th>1990-10-01</th>\n",
       "      <td>9.57</td>\n",
       "      <td>10</td>\n",
       "      <td>1990</td>\n",
       "    </tr>\n",
       "    <tr>\n",
       "      <th>1990-11-01</th>\n",
       "      <td>14.44</td>\n",
       "      <td>11</td>\n",
       "      <td>1990</td>\n",
       "    </tr>\n",
       "    <tr>\n",
       "      <th>1990-12-01</th>\n",
       "      <td>24.50</td>\n",
       "      <td>12</td>\n",
       "      <td>1990</td>\n",
       "    </tr>\n",
       "    <tr>\n",
       "      <th>1991-01-01</th>\n",
       "      <td>19.94</td>\n",
       "      <td>1</td>\n",
       "      <td>1991</td>\n",
       "    </tr>\n",
       "    <tr>\n",
       "      <th>1991-02-01</th>\n",
       "      <td>13.99</td>\n",
       "      <td>2</td>\n",
       "      <td>1991</td>\n",
       "    </tr>\n",
       "    <tr>\n",
       "      <th>1991-03-01</th>\n",
       "      <td>12.50</td>\n",
       "      <td>3</td>\n",
       "      <td>1991</td>\n",
       "    </tr>\n",
       "  </tbody>\n",
       "</table>\n",
       "</div>"
      ],
      "text/plain": [
       "            Amount  Extract_month  Extract Year\n",
       "Month                                          \n",
       "1990-01-01   16.50              1          1990\n",
       "1990-02-01   15.17              2          1990\n",
       "1990-03-01   12.75              3          1990\n",
       "1990-04-01   12.31              4          1990\n",
       "1990-05-01    8.34              5          1990\n",
       "1990-06-01    8.63              6          1990\n",
       "1990-07-01   12.37              7          1990\n",
       "1990-08-01   11.53              8          1990\n",
       "1990-09-01    9.47              9          1990\n",
       "1990-10-01    9.57             10          1990\n",
       "1990-11-01   14.44             11          1990\n",
       "1990-12-01   24.50             12          1990\n",
       "1991-01-01   19.94              1          1991\n",
       "1991-02-01   13.99              2          1991\n",
       "1991-03-01   12.50              3          1991"
      ]
     },
     "execution_count": 12,
     "metadata": {},
     "output_type": "execute_result"
    }
   ],
   "source": [
    "df.loc['01-01-1990':'03-01-1991'] # mm-dd-yy"
   ]
  },
  {
   "cell_type": "markdown",
   "metadata": {
    "id": "5yv38FW1Maot"
   },
   "source": [
    "# Check Missing Values\n",
    "\n",
    "use asfreq function\n",
    "\n",
    "freq -> MS = start of the month\n",
    "\n",
    " QS = start of the quarter\n",
    "\n",
    " YS = start of the year\n",
    "\n",
    " Y = Year end\n",
    "\n",
    " M = Month End\n",
    "\n",
    " Q = Quarter End\n",
    "\n",
    " D = Daily\n",
    "\n",
    " B = Bussiness Days (mon-fri)\n",
    "\n",
    " etc"
   ]
  },
  {
   "cell_type": "code",
   "execution_count": 13,
   "metadata": {
    "id": "p7DHUp34MYWO"
   },
   "outputs": [],
   "source": [
    "df = df.asfreq(\"MS\") "
   ]
  },
  {
   "cell_type": "code",
   "execution_count": 14,
   "metadata": {
    "colab": {
     "base_uri": "https://localhost:8080/"
    },
    "executionInfo": {
     "elapsed": 8,
     "status": "ok",
     "timestamp": 1674639530651,
     "user": {
      "displayName": "IACSD Akurdi",
      "userId": "10433988175144222979"
     },
     "user_tz": -330
    },
    "id": "e3QgYf6qNzWC",
    "outputId": "50504651-f205-4aa0-857e-be8a31db980a"
   },
   "outputs": [
    {
     "data": {
      "text/plain": [
       "Amount           0\n",
       "Extract_month    0\n",
       "Extract Year     0\n",
       "dtype: int64"
      ]
     },
     "execution_count": 14,
     "metadata": {},
     "output_type": "execute_result"
    }
   ],
   "source": [
    "df.isna().sum()"
   ]
  },
  {
   "cell_type": "markdown",
   "metadata": {
    "id": "P7xI3p51N_f6"
   },
   "source": [
    "# Fill Missing values\n",
    "\n",
    "- Back Fill / bfill\n",
    "\n",
    "value goes to previous time stamp\n",
    "\n",
    "Ex. record of 25th is used to fill missing in 24th\n",
    "\n",
    "\n",
    "- Front fill / pad\n",
    "\n",
    "value goes to next time stamp\n",
    "\n",
    "Ex. record of 25th is used to fill missing in 26th"
   ]
  },
  {
   "cell_type": "code",
   "execution_count": 15,
   "metadata": {
    "id": "eWIxIBgOOdvY"
   },
   "outputs": [],
   "source": [
    "df.fillna(method = \"ffill\", inplace=True)"
   ]
  },
  {
   "cell_type": "markdown",
   "metadata": {
    "id": "cyozX1ALGqHB"
   },
   "source": [
    "# Seasonal decompose"
   ]
  },
  {
   "cell_type": "code",
   "execution_count": 18,
   "metadata": {},
   "outputs": [],
   "source": [
    "# it gives error if their is null value in data"
   ]
  },
  {
   "cell_type": "code",
   "execution_count": 16,
   "metadata": {
    "colab": {
     "base_uri": "https://localhost:8080/",
     "height": 729
    },
    "executionInfo": {
     "elapsed": 1871,
     "status": "ok",
     "timestamp": 1674639062565,
     "user": {
      "displayName": "IACSD Akurdi",
      "userId": "10433988175144222979"
     },
     "user_tz": -330
    },
    "id": "noDEZj9nPqj-",
    "outputId": "dc94f437-178d-470d-e210-70df565ce838"
   },
   "outputs": [
    {
     "data": {
      "image/png": "[encoded data removed]",
      "text/plain": [
       "<Figure size 360x360 with 4 Axes>"
      ]
     },
     "metadata": {
      "needs_background": "light"
     },
     "output_type": "display_data"
    },
    {
     "data": {
      "image/png": "[encoded data removed]",
      "text/plain": [
       "<Figure size 360x360 with 4 Axes>"
      ]
     },
     "metadata": {
      "needs_background": "light"
     },
     "output_type": "display_data"
    }
   ],
   "source": [
    "import matplotlib.pyplot as plt\n",
    "from statsmodels.tsa.seasonal import seasonal_decompose\n",
    "from dateutil.parser import parse\n",
    "\n",
    "# Multiplicative Decomposition\n",
    "result_mul = seasonal_decompose(df['Amount'], model='multiplicative', extrapolate_trend='freq')\n",
    "\n",
    "# Additive Decomposition\n",
    "result_add = seasonal_decompose(df['Amount'], model='additive', extrapolate_trend='freq')\n",
    "\n",
    "# Plot\n",
    "plt.rcParams.update({'figure.figsize': (5,5)})\n",
    "result_mul.plot().suptitle('Multiplicative Decompose', fontsize=22)\n",
    "result_add.plot().suptitle('Additive Decompose', fontsize=22)\n",
    "plt.show()"
   ]
  },
  {
   "cell_type": "markdown",
   "metadata": {
    "id": "uL2cqPlZGwLm"
   },
   "source": [
    "# Install PMD Arima Library for Auto Arima"
   ]
  },
  {
   "cell_type": "code",
   "execution_count": 17,
   "metadata": {
    "colab": {
     "base_uri": "https://localhost:8080/",
     "height": 621
    },
    "executionInfo": {
     "elapsed": 10973,
     "status": "ok",
     "timestamp": 1674639488406,
     "user": {
      "displayName": "IACSD Akurdi",
      "userId": "10433988175144222979"
     },
     "user_tz": -330
    },
    "id": "YZiw0kCduB-g",
    "outputId": "d6fb7563-f5f2-430b-9147-8b652ff487dd"
   },
   "outputs": [
    {
     "name": "stdout",
     "output_type": "stream",
     "text": [
      "Collecting pmdarima\n",
      "  Downloading pmdarima-2.0.4-cp310-cp310-win_amd64.whl (613 kB)\n",
      "     ------------------------------------- 613.3/613.3 kB 53.5 kB/s eta 0:00:00\n",
      "Requirement already satisfied: joblib>=0.11 in c:\\python3.10\\lib\\site-packages (from pmdarima) (1.1.0)\n",
      "Collecting Cython!=0.29.18,!=0.29.31,>=0.29 (from pmdarima)\n",
      "  Downloading Cython-3.0.10-cp310-cp310-win_amd64.whl (2.8 MB)\n",
      "     ---------------------------------------- 2.8/2.8 MB 39.9 kB/s eta 0:00:00\n",
      "Requirement already satisfied: numpy>=1.21.2 in c:\\python3.10\\lib\\site-packages (from pmdarima) (1.22.0)\n",
      "Requirement already satisfied: pandas>=0.19 in c:\\python3.10\\lib\\site-packages (from pmdarima) (1.4.1)\n",
      "Requirement already satisfied: scikit-learn>=0.22 in c:\\python3.10\\lib\\site-packages (from pmdarima) (1.0.2)\n",
      "Requirement already satisfied: scipy>=1.3.2 in c:\\python3.10\\lib\\site-packages (from pmdarima) (1.7.3)\n",
      "Requirement already satisfied: statsmodels>=0.13.2 in c:\\python3.10\\lib\\site-packages (from pmdarima) (0.13.2)\n",
      "Requirement already satisfied: urllib3 in c:\\python3.10\\lib\\site-packages (from pmdarima) (1.26.8)\n",
      "Requirement already satisfied: setuptools!=50.0.0,>=38.6.0 in c:\\python3.10\\lib\\site-packages (from pmdarima) (58.1.0)\n",
      "Requirement already satisfied: packaging>=17.1 in c:\\python3.10\\lib\\site-packages (from pmdarima) (21.3)\n",
      "Requirement already satisfied: pyparsing!=3.0.5,>=2.0.2 in c:\\python3.10\\lib\\site-packages (from packaging>=17.1->pmdarima) (3.0.7)\n",
      "Requirement already satisfied: python-dateutil>=2.8.1 in c:\\python3.10\\lib\\site-packages (from pandas>=0.19->pmdarima) (2.8.2)\n",
      "Requirement already satisfied: pytz>=2020.1 in c:\\python3.10\\lib\\site-packages (from pandas>=0.19->pmdarima) (2021.3)\n",
      "Requirement already satisfied: threadpoolctl>=2.0.0 in c:\\python3.10\\lib\\site-packages (from scikit-learn>=0.22->pmdarima) (3.0.0)\n",
      "Requirement already satisfied: patsy>=0.5.2 in c:\\python3.10\\lib\\site-packages (from statsmodels>=0.13.2->pmdarima) (0.5.2)\n",
      "Requirement already satisfied: six in c:\\python3.10\\lib\\site-packages (from patsy>=0.5.2->statsmodels>=0.13.2->pmdarima) (1.16.0)\n",
      "Installing collected packages: Cython, pmdarima\n",
      "Successfully installed Cython-3.0.10 pmdarima-2.0.4\n"
     ]
    },
    {
     "name": "stderr",
     "output_type": "stream",
     "text": [
      "\n",
      "[notice] A new release of pip is available: 23.1.2 -> 24.0\n",
      "[notice] To update, run: python.exe -m pip install --upgrade pip\n"
     ]
    }
   ],
   "source": [
    "!pip install pmdarima"
   ]
  },
  {
   "cell_type": "markdown",
   "metadata": {
    "id": "Vtk1bZdl0tQF"
   },
   "source": [
    "# Split training and test data\n",
    "\n",
    "How splitting TS data is diff than other problems"
   ]
  },
  {
   "cell_type": "code",
   "execution_count": 19,
   "metadata": {
    "id": "grOiprl107ge"
   },
   "outputs": [],
   "source": [
    "import pmdarima as pm\n",
    "from pmdarima.model_selection import train_test_split"
   ]
  },
  {
   "cell_type": "code",
   "execution_count": 20,
   "metadata": {
    "colab": {
     "base_uri": "https://localhost:8080/"
    },
    "executionInfo": {
     "elapsed": 12,
     "status": "ok",
     "timestamp": 1674639784116,
     "user": {
      "displayName": "IACSD Akurdi",
      "userId": "10433988175144222979"
     },
     "user_tz": -330
    },
    "id": "XNQGpoVCTyOq",
    "outputId": "ad32f570-ee55-43d4-c72e-e73d71321669"
   },
   "outputs": [
    {
     "data": {
      "text/plain": [
       "(132, 3)"
      ]
     },
     "execution_count": 20,
     "metadata": {},
     "output_type": "execute_result"
    }
   ],
   "source": [
    "df.shape"
   ]
  },
  {
   "cell_type": "code",
   "execution_count": 21,
   "metadata": {
    "id": "e_XCZdC_TXGQ"
   },
   "outputs": [],
   "source": [
    "test_size = int(0.1 * df.shape[0])\n",
    "train, test = train_test_split(df['Amount'],test_size = test_size)"
   ]
  },
  {
   "cell_type": "code",
   "execution_count": 22,
   "metadata": {
    "colab": {
     "base_uri": "https://localhost:8080/"
    },
    "executionInfo": {
     "elapsed": 9,
     "status": "ok",
     "timestamp": 1674639880071,
     "user": {
      "displayName": "IACSD Akurdi",
      "userId": "10433988175144222979"
     },
     "user_tz": -330
    },
    "id": "85eKWGNPUISX",
    "outputId": "13774468-b348-4ad4-9912-27a52a736f89"
   },
   "outputs": [
    {
     "data": {
      "text/plain": [
       "((119,), (13,))"
      ]
     },
     "execution_count": 22,
     "metadata": {},
     "output_type": "execute_result"
    }
   ],
   "source": [
    "train.shape, test.shape"
   ]
  },
  {
   "cell_type": "markdown",
   "metadata": {
    "id": "VUAEvtHk2ZkF"
   },
   "source": [
    "# Apply AUTO ARIMA\n",
    "\n",
    "AIC Akaike Information Criterion\n",
    "\n",
    "Select model which has min AIC"
   ]
  },
  {
   "cell_type": "code",
   "execution_count": 23,
   "metadata": {
    "colab": {
     "base_uri": "https://localhost:8080/"
    },
    "executionInfo": {
     "elapsed": 76707,
     "status": "ok",
     "timestamp": 1674640031985,
     "user": {
      "displayName": "IACSD Akurdi",
      "userId": "10433988175144222979"
     },
     "user_tz": -330
    },
    "id": "o9wN9SGj1Xwm",
    "outputId": "e2982cbd-8dcc-45b2-d3f5-40baa58efd3b"
   },
   "outputs": [
    {
     "name": "stdout",
     "output_type": "stream",
     "text": [
      "Performing stepwise search to minimize aic\n",
      " ARIMA(2,0,2)(1,0,1)[12] intercept   : AIC=486.348, Time=2.42 sec\n",
      " ARIMA(0,0,0)(0,0,0)[12] intercept   : AIC=675.940, Time=0.01 sec\n",
      " ARIMA(1,0,0)(1,0,0)[12] intercept   : AIC=506.014, Time=0.19 sec\n",
      " ARIMA(0,0,1)(0,0,1)[12] intercept   : AIC=567.445, Time=0.12 sec\n",
      " ARIMA(0,0,0)(0,0,0)[12]             : AIC=937.336, Time=0.01 sec\n",
      " ARIMA(2,0,2)(0,0,1)[12] intercept   : AIC=559.968, Time=0.81 sec\n",
      " ARIMA(2,0,2)(1,0,0)[12] intercept   : AIC=inf, Time=0.72 sec\n",
      " ARIMA(2,0,2)(2,0,1)[12] intercept   : AIC=488.640, Time=1.90 sec\n",
      " ARIMA(2,0,2)(1,0,2)[12] intercept   : AIC=inf, Time=2.07 sec\n",
      " ARIMA(2,0,2)(0,0,0)[12] intercept   : AIC=596.509, Time=0.29 sec\n",
      " ARIMA(2,0,2)(0,0,2)[12] intercept   : AIC=inf, Time=1.47 sec\n",
      " ARIMA(2,0,2)(2,0,0)[12] intercept   : AIC=495.249, Time=1.46 sec\n",
      " ARIMA(2,0,2)(2,0,2)[12] intercept   : AIC=inf, Time=1.98 sec\n",
      " ARIMA(1,0,2)(1,0,1)[12] intercept   : AIC=478.097, Time=0.83 sec\n",
      " ARIMA(1,0,2)(0,0,1)[12] intercept   : AIC=563.515, Time=0.28 sec\n",
      " ARIMA(1,0,2)(1,0,0)[12] intercept   : AIC=508.890, Time=0.70 sec\n",
      " ARIMA(1,0,2)(2,0,1)[12] intercept   : AIC=472.529, Time=1.74 sec\n",
      " ARIMA(1,0,2)(2,0,0)[12] intercept   : AIC=inf, Time=1.26 sec\n",
      " ARIMA(1,0,2)(2,0,2)[12] intercept   : AIC=480.289, Time=1.79 sec\n",
      " ARIMA(1,0,2)(1,0,2)[12] intercept   : AIC=inf, Time=1.79 sec\n",
      " ARIMA(0,0,2)(2,0,1)[12] intercept   : AIC=inf, Time=1.32 sec\n",
      " ARIMA(1,0,1)(2,0,1)[12] intercept   : AIC=489.602, Time=1.39 sec\n",
      " ARIMA(1,0,3)(2,0,1)[12] intercept   : AIC=477.582, Time=1.72 sec\n",
      " ARIMA(0,0,1)(2,0,1)[12] intercept   : AIC=inf, Time=0.99 sec\n",
      " ARIMA(0,0,3)(2,0,1)[12] intercept   : AIC=inf, Time=1.44 sec\n",
      " ARIMA(2,0,1)(2,0,1)[12] intercept   : AIC=470.167, Time=1.62 sec\n",
      " ARIMA(2,0,1)(1,0,1)[12] intercept   : AIC=470.435, Time=0.84 sec\n",
      " ARIMA(2,0,1)(2,0,0)[12] intercept   : AIC=482.803, Time=1.39 sec\n",
      " ARIMA(2,0,1)(2,0,2)[12] intercept   : AIC=inf, Time=1.82 sec\n",
      " ARIMA(2,0,1)(1,0,0)[12] intercept   : AIC=508.971, Time=0.60 sec\n",
      " ARIMA(2,0,1)(1,0,2)[12] intercept   : AIC=inf, Time=1.56 sec\n",
      " ARIMA(2,0,0)(2,0,1)[12] intercept   : AIC=468.898, Time=1.64 sec\n",
      " ARIMA(2,0,0)(1,0,1)[12] intercept   : AIC=468.360, Time=0.73 sec\n",
      " ARIMA(2,0,0)(0,0,1)[12] intercept   : AIC=561.131, Time=0.14 sec\n",
      " ARIMA(2,0,0)(1,0,0)[12] intercept   : AIC=506.929, Time=0.34 sec\n",
      " ARIMA(2,0,0)(1,0,2)[12] intercept   : AIC=inf, Time=1.51 sec\n",
      " ARIMA(2,0,0)(0,0,0)[12] intercept   : AIC=595.516, Time=0.08 sec\n",
      " ARIMA(2,0,0)(0,0,2)[12] intercept   : AIC=inf, Time=0.62 sec\n",
      " ARIMA(2,0,0)(2,0,0)[12] intercept   : AIC=inf, Time=1.05 sec\n",
      " ARIMA(2,0,0)(2,0,2)[12] intercept   : AIC=inf, Time=1.61 sec\n",
      " ARIMA(1,0,0)(1,0,1)[12] intercept   : AIC=466.800, Time=0.57 sec\n",
      " ARIMA(1,0,0)(0,0,1)[12] intercept   : AIC=564.984, Time=0.12 sec\n",
      " ARIMA(1,0,0)(2,0,1)[12] intercept   : AIC=467.108, Time=1.23 sec\n",
      " ARIMA(1,0,0)(1,0,2)[12] intercept   : AIC=inf, Time=1.09 sec\n",
      " ARIMA(1,0,0)(0,0,0)[12] intercept   : AIC=616.807, Time=0.04 sec\n",
      " ARIMA(1,0,0)(0,0,2)[12] intercept   : AIC=inf, Time=0.48 sec\n",
      " ARIMA(1,0,0)(2,0,0)[12] intercept   : AIC=inf, Time=0.57 sec\n",
      " ARIMA(1,0,0)(2,0,2)[12] intercept   : AIC=inf, Time=1.25 sec\n",
      " ARIMA(0,0,0)(1,0,1)[12] intercept   : AIC=491.531, Time=0.51 sec\n",
      " ARIMA(1,0,1)(1,0,1)[12] intercept   : AIC=488.866, Time=0.71 sec\n",
      " ARIMA(0,0,1)(1,0,1)[12] intercept   : AIC=477.382, Time=0.61 sec\n",
      " ARIMA(1,0,0)(1,0,1)[12]             : AIC=inf, Time=0.53 sec\n",
      "\n",
      "Best model:  ARIMA(1,0,0)(1,0,1)[12] intercept\n",
      "Total fit time: 52.068 seconds\n"
     ]
    }
   ],
   "source": [
    "# Fit your model\n",
    "model = pm.auto_arima(train, seasonal=True, m=12,trace = True) #seasonal =False"
   ]
  },
  {
   "cell_type": "code",
   "execution_count": 24,
   "metadata": {
    "colab": {
     "base_uri": "https://localhost:8080/"
    },
    "executionInfo": {
     "elapsed": 5863,
     "status": "ok",
     "timestamp": 1674640230674,
     "user": {
      "displayName": "IACSD Akurdi",
      "userId": "10433988175144222979"
     },
     "user_tz": -330
    },
    "id": "NFBwCVUaVd38",
    "outputId": "d47b90fc-a375-4718-e867-eb3d095f18a0"
   },
   "outputs": [
    {
     "name": "stderr",
     "output_type": "stream",
     "text": [
      "C:\\python3.10\\lib\\site-packages\\pmdarima\\arima\\_validation.py:62: UserWarning: m (12) set for non-seasonal fit. Setting to 0\n",
      "  warnings.warn(\"m (%i) set for non-seasonal fit. Setting to 0\" % m)\n"
     ]
    },
    {
     "name": "stdout",
     "output_type": "stream",
     "text": [
      "Performing stepwise search to minimize aic\n",
      " ARIMA(2,0,2)(0,0,0)[0]             : AIC=inf, Time=0.33 sec\n",
      " ARIMA(0,0,0)(0,0,0)[0]             : AIC=937.336, Time=0.01 sec\n",
      " ARIMA(1,0,0)(0,0,0)[0]             : AIC=638.805, Time=0.02 sec\n",
      " ARIMA(0,0,1)(0,0,0)[0]             : AIC=813.454, Time=0.04 sec\n",
      " ARIMA(2,0,0)(0,0,0)[0]             : AIC=636.688, Time=0.04 sec\n",
      " ARIMA(3,0,0)(0,0,0)[0]             : AIC=627.031, Time=0.05 sec\n",
      " ARIMA(4,0,0)(0,0,0)[0]             : AIC=627.301, Time=0.07 sec\n",
      " ARIMA(3,0,1)(0,0,0)[0]             : AIC=inf, Time=0.30 sec\n",
      " ARIMA(2,0,1)(0,0,0)[0]             : AIC=634.859, Time=0.09 sec\n",
      " ARIMA(4,0,1)(0,0,0)[0]             : AIC=627.215, Time=0.17 sec\n",
      " ARIMA(3,0,0)(0,0,0)[0] intercept   : AIC=597.471, Time=0.12 sec\n",
      " ARIMA(2,0,0)(0,0,0)[0] intercept   : AIC=595.516, Time=0.08 sec\n",
      " ARIMA(1,0,0)(0,0,0)[0] intercept   : AIC=616.807, Time=0.04 sec\n",
      " ARIMA(2,0,1)(0,0,0)[0] intercept   : AIC=597.435, Time=0.18 sec\n",
      " ARIMA(1,0,1)(0,0,0)[0] intercept   : AIC=601.014, Time=0.08 sec\n",
      " ARIMA(3,0,1)(0,0,0)[0] intercept   : AIC=599.411, Time=0.20 sec\n",
      "\n",
      "Best model:  ARIMA(2,0,0)(0,0,0)[0] intercept\n",
      "Total fit time: 1.817 seconds\n"
     ]
    }
   ],
   "source": [
    "# Fit your model\n",
    "model = pm.auto_arima(train, seasonal=False, m=12,trace = True) #seasonal =False"
   ]
  },
  {
   "cell_type": "markdown",
   "metadata": {
    "id": "w16ytpQaHElm"
   },
   "source": [
    "## Make your forecasts\n",
    "\n",
    "Create ARIMA model based on parameters given by AUTO ARIMA\n",
    "\n",
    "ARIMA(2,0,0)"
   ]
  },
  {
   "cell_type": "code",
   "execution_count": 35,
   "metadata": {
    "id": "udf1pIXicXzo"
   },
   "outputs": [],
   "source": [
    "model = pm.ARIMA((2,0,0))"
   ]
  },
  {
   "cell_type": "code",
   "execution_count": 36,
   "metadata": {
    "colab": {
     "base_uri": "https://localhost:8080/"
    },
    "executionInfo": {
     "elapsed": 10,
     "status": "ok",
     "timestamp": 1674642228725,
     "user": {
      "displayName": "IACSD Akurdi",
      "userId": "10433988175144222979"
     },
     "user_tz": -330
    },
    "id": "VKsU2tondCmX",
    "outputId": "bcf5738c-a36c-45f5-9a2b-224276ded3a5"
   },
   "outputs": [
    {
     "data": {
      "text/plain": [
       "ARIMA(order=(2, 0, 0))"
      ]
     },
     "execution_count": 36,
     "metadata": {},
     "output_type": "execute_result"
    }
   ],
   "source": [
    "model.fit(train)"
   ]
  },
  {
   "cell_type": "code",
   "execution_count": 37,
   "metadata": {
    "id": "DNg6HMeWdIyW"
   },
   "outputs": [],
   "source": [
    "predictions = model.predict(n_periods = test.shape[0])"
   ]
  },
  {
   "cell_type": "code",
   "execution_count": 38,
   "metadata": {
    "colab": {
     "base_uri": "https://localhost:8080/"
    },
    "executionInfo": {
     "elapsed": 8,
     "status": "ok",
     "timestamp": 1674642376020,
     "user": {
      "displayName": "IACSD Akurdi",
      "userId": "10433988175144222979"
     },
     "user_tz": -330
    },
    "id": "uiHqLwmPdV4H",
    "outputId": "5a13acd2-1946-4a49-8f6e-3048c9d87197"
   },
   "outputs": [
    {
     "data": {
      "text/plain": [
       "((13,), (13,))"
      ]
     },
     "execution_count": 38,
     "metadata": {},
     "output_type": "execute_result"
    }
   ],
   "source": [
    "test.shape, predictions.shape"
   ]
  },
  {
   "cell_type": "code",
   "execution_count": 39,
   "metadata": {},
   "outputs": [
    {
     "data": {
      "text/plain": [
       "3.708322061038826"
      ]
     },
     "execution_count": 39,
     "metadata": {},
     "output_type": "execute_result"
    }
   ],
   "source": [
    "mean_absolute_error(test, predictions)"
   ]
  },
  {
   "cell_type": "code",
   "execution_count": 40,
   "metadata": {},
   "outputs": [
    {
     "data": {
      "text/plain": [
       "35.0933494591564"
      ]
     },
     "execution_count": 40,
     "metadata": {},
     "output_type": "execute_result"
    }
   ],
   "source": [
    "pm.metrics.smape(test, predictions)"
   ]
  },
  {
   "cell_type": "markdown",
   "metadata": {
    "id": "4oFktoXzjl4j"
   },
   "source": [
    "## Seasonal ARIMA"
   ]
  },
  {
   "cell_type": "code",
   "execution_count": 42,
   "metadata": {
    "id": "T5wdXbFQh_Lw"
   },
   "outputs": [],
   "source": [
    "model = pm.ARIMA((1,0,0), seasonal_order= (1,0,1,12), maxiter=100)"
   ]
  },
  {
   "cell_type": "code",
   "execution_count": 43,
   "metadata": {
    "colab": {
     "base_uri": "https://localhost:8080/"
    },
    "executionInfo": {
     "elapsed": 1370,
     "status": "ok",
     "timestamp": 1674643622545,
     "user": {
      "displayName": "IACSD Akurdi",
      "userId": "10433988175144222979"
     },
     "user_tz": -330
    },
    "id": "Ejtvng8TiUU9",
    "outputId": "2e58d724-0b84-4fb4-a79a-bd3592146adf"
   },
   "outputs": [
    {
     "data": {
      "text/plain": [
       "ARIMA(maxiter=100, order=(1, 0, 0), seasonal_order=(1, 0, 1, 12))"
      ]
     },
     "execution_count": 43,
     "metadata": {},
     "output_type": "execute_result"
    }
   ],
   "source": [
    "model.fit(train)"
   ]
  },
  {
   "cell_type": "code",
   "execution_count": 44,
   "metadata": {
    "id": "Ng6QDDDQiXWW"
   },
   "outputs": [],
   "source": [
    "predictions = model.predict(n_periods = test.shape[0])"
   ]
  },
  {
   "cell_type": "code",
   "execution_count": 45,
   "metadata": {},
   "outputs": [],
   "source": [
    "from sklearn.metrics import mean_absolute_error, mean_squared_error"
   ]
  },
  {
   "cell_type": "code",
   "execution_count": 46,
   "metadata": {
    "colab": {
     "base_uri": "https://localhost:8080/"
    },
    "executionInfo": {
     "elapsed": 388,
     "status": "ok",
     "timestamp": 1674643916447,
     "user": {
      "displayName": "IACSD Akurdi",
      "userId": "10433988175144222979"
     },
     "user_tz": -330
    },
    "id": "ma5nE-9rign1",
    "outputId": "79f64ff3-361a-4ad4-e93d-9988e14e4a3b"
   },
   "outputs": [
    {
     "data": {
      "text/plain": [
       "1.7043754628254968"
      ]
     },
     "execution_count": 46,
     "metadata": {},
     "output_type": "execute_result"
    }
   ],
   "source": [
    "mean_absolute_error(test, predictions)"
   ]
  },
  {
   "cell_type": "code",
   "execution_count": 47,
   "metadata": {},
   "outputs": [
    {
     "data": {
      "text/plain": [
       "17.21886984048036"
      ]
     },
     "execution_count": 47,
     "metadata": {},
     "output_type": "execute_result"
    }
   ],
   "source": [
    "pm.metrics.smape(test, predictions)"
   ]
  },
  {
   "cell_type": "markdown",
   "metadata": {
    "id": "UiTc_uHPHJLO"
   },
   "source": [
    "# Evaluate"
   ]
  },
  {
   "cell_type": "code",
   "execution_count": 48,
   "metadata": {
    "colab": {
     "base_uri": "https://localhost:8080/"
    },
    "executionInfo": {
     "elapsed": 406,
     "status": "ok",
     "timestamp": 1674643241941,
     "user": {
      "displayName": "IACSD Akurdi",
      "userId": "10433988175144222979"
     },
     "user_tz": -330
    },
    "id": "tih0qNoRg-bI",
    "outputId": "492ae87a-cc38-4821-b6fa-4ab07ce555b1"
   },
   "outputs": [
    {
     "data": {
      "text/plain": [
       "Month\n",
       "1999-12-01    17.54\n",
       "2000-01-01    15.04\n",
       "2000-02-01    11.21\n",
       "2000-03-01     8.70\n",
       "2000-04-01     9.92\n",
       "2000-05-01     6.65\n",
       "2000-06-01     6.73\n",
       "2000-07-01     8.12\n",
       "2000-08-01     8.31\n",
       "2000-09-01     6.87\n",
       "2000-10-01     5.45\n",
       "2000-11-01    11.29\n",
       "2000-12-01    18.21\n",
       "Freq: MS, Name: Amount, dtype: float64"
      ]
     },
     "execution_count": 48,
     "metadata": {},
     "output_type": "execute_result"
    }
   ],
   "source": [
    "test"
   ]
  },
  {
   "cell_type": "code",
   "execution_count": 49,
   "metadata": {
    "id": "6eVh97vndxFI"
   },
   "outputs": [],
   "source": [
    "from sklearn.metrics import mean_absolute_error, mean_squared_error"
   ]
  },
  {
   "cell_type": "code",
   "execution_count": 50,
   "metadata": {
    "colab": {
     "base_uri": "https://localhost:8080/"
    },
    "executionInfo": {
     "elapsed": 12,
     "status": "ok",
     "timestamp": 1674642483740,
     "user": {
      "displayName": "IACSD Akurdi",
      "userId": "10433988175144222979"
     },
     "user_tz": -330
    },
    "id": "a-SIlVrrd-b1",
    "outputId": "9bb62147-99cc-46b7-e216-92474348b848"
   },
   "outputs": [
    {
     "data": {
      "text/plain": [
       "1.7043754628254968"
      ]
     },
     "execution_count": 50,
     "metadata": {},
     "output_type": "execute_result"
    }
   ],
   "source": [
    "mean_absolute_error(test, predictions)"
   ]
  },
  {
   "cell_type": "code",
   "execution_count": 51,
   "metadata": {
    "colab": {
     "base_uri": "https://localhost:8080/"
    },
    "executionInfo": {
     "elapsed": 10,
     "status": "ok",
     "timestamp": 1674642487963,
     "user": {
      "displayName": "IACSD Akurdi",
      "userId": "10433988175144222979"
     },
     "user_tz": -330
    },
    "id": "epNYJJceeBfV",
    "outputId": "f3bc90ed-b3b2-4714-82dc-e4a7d7671b72"
   },
   "outputs": [
    {
     "data": {
      "text/plain": [
       "3.5831845633838353"
      ]
     },
     "execution_count": 51,
     "metadata": {},
     "output_type": "execute_result"
    }
   ],
   "source": [
    "mean_squared_error(test, predictions)"
   ]
  },
  {
   "cell_type": "code",
   "execution_count": 52,
   "metadata": {
    "colab": {
     "base_uri": "https://localhost:8080/"
    },
    "executionInfo": {
     "elapsed": 12,
     "status": "ok",
     "timestamp": 1674643351017,
     "user": {
      "displayName": "IACSD Akurdi",
      "userId": "10433988175144222979"
     },
     "user_tz": -330
    },
    "id": "Q0WW-NNfhKXB",
    "outputId": "aff2ddc0-83b5-4ad5-9353-e18423549d7c"
   },
   "outputs": [
    {
     "data": {
      "text/plain": [
       "17.21886984048036"
      ]
     },
     "execution_count": 52,
     "metadata": {},
     "output_type": "execute_result"
    }
   ],
   "source": [
    "pm.metrics.smape(test, predictions)"
   ]
  },
  {
   "cell_type": "markdown",
   "metadata": {
    "id": "nr6iwW3e7ADh"
   },
   "source": [
    "# Time series as Regression of Lag values"
   ]
  },
  {
   "cell_type": "markdown",
   "metadata": {
    "id": "R3SIS-ZHlCJY"
   },
   "source": [
    "## create features from given data\n",
    "\n",
    "lag values / historical values are features used in time series"
   ]
  },
  {
   "cell_type": "code",
   "execution_count": 53,
   "metadata": {
    "id": "34pLUjXWAGRg"
   },
   "outputs": [],
   "source": [
    "df['lag1'] = df['Amount'].shift(1) # t\n",
    "df['lag2'] = df['Amount'].shift(2) # t-1\n",
    "df['lag3'] = df['Amount'].shift(3) # t-2\n",
    "df['lag4'] = df['Amount'].shift(4) # t-3\n",
    "df['lag5'] = df['Amount'].shift(5) # t-4"
   ]
  },
  {
   "cell_type": "code",
   "execution_count": 54,
   "metadata": {
    "colab": {
     "base_uri": "https://localhost:8080/",
     "height": 438
    },
    "executionInfo": {
     "elapsed": 408,
     "status": "ok",
     "timestamp": 1674644502838,
     "user": {
      "displayName": "IACSD Akurdi",
      "userId": "10433988175144222979"
     },
     "user_tz": -330
    },
    "id": "f_mgX3-xll3q",
    "outputId": "df0c61ee-70b8-4338-ef2b-c11eb66d7e9d"
   },
   "outputs": [
    {
     "data": {
      "text/html": [
       "<div>\n",
       "<style scoped>\n",
       "    .dataframe tbody tr th:only-of-type {\n",
       "        vertical-align: middle;\n",
       "    }\n",
       "\n",
       "    .dataframe tbody tr th {\n",
       "        vertical-align: top;\n",
       "    }\n",
       "\n",
       "    .dataframe thead th {\n",
       "        text-align: right;\n",
       "    }\n",
       "</style>\n",
       "<table border=\"1\" class=\"dataframe\">\n",
       "  <thead>\n",
       "    <tr style=\"text-align: right;\">\n",
       "      <th></th>\n",
       "      <th>Amount</th>\n",
       "      <th>Extract_month</th>\n",
       "      <th>Extract Year</th>\n",
       "      <th>lag1</th>\n",
       "      <th>lag2</th>\n",
       "      <th>lag3</th>\n",
       "      <th>lag4</th>\n",
       "      <th>lag5</th>\n",
       "    </tr>\n",
       "    <tr>\n",
       "      <th>Month</th>\n",
       "      <th></th>\n",
       "      <th></th>\n",
       "      <th></th>\n",
       "      <th></th>\n",
       "      <th></th>\n",
       "      <th></th>\n",
       "      <th></th>\n",
       "      <th></th>\n",
       "    </tr>\n",
       "  </thead>\n",
       "  <tbody>\n",
       "    <tr>\n",
       "      <th>1990-01-01</th>\n",
       "      <td>16.50</td>\n",
       "      <td>1</td>\n",
       "      <td>1990</td>\n",
       "      <td>NaN</td>\n",
       "      <td>NaN</td>\n",
       "      <td>NaN</td>\n",
       "      <td>NaN</td>\n",
       "      <td>NaN</td>\n",
       "    </tr>\n",
       "    <tr>\n",
       "      <th>1990-02-01</th>\n",
       "      <td>15.17</td>\n",
       "      <td>2</td>\n",
       "      <td>1990</td>\n",
       "      <td>16.50</td>\n",
       "      <td>NaN</td>\n",
       "      <td>NaN</td>\n",
       "      <td>NaN</td>\n",
       "      <td>NaN</td>\n",
       "    </tr>\n",
       "    <tr>\n",
       "      <th>1990-03-01</th>\n",
       "      <td>12.75</td>\n",
       "      <td>3</td>\n",
       "      <td>1990</td>\n",
       "      <td>15.17</td>\n",
       "      <td>16.50</td>\n",
       "      <td>NaN</td>\n",
       "      <td>NaN</td>\n",
       "      <td>NaN</td>\n",
       "    </tr>\n",
       "    <tr>\n",
       "      <th>1990-04-01</th>\n",
       "      <td>12.31</td>\n",
       "      <td>4</td>\n",
       "      <td>1990</td>\n",
       "      <td>12.75</td>\n",
       "      <td>15.17</td>\n",
       "      <td>16.50</td>\n",
       "      <td>NaN</td>\n",
       "      <td>NaN</td>\n",
       "    </tr>\n",
       "    <tr>\n",
       "      <th>1990-05-01</th>\n",
       "      <td>8.34</td>\n",
       "      <td>5</td>\n",
       "      <td>1990</td>\n",
       "      <td>12.31</td>\n",
       "      <td>12.75</td>\n",
       "      <td>15.17</td>\n",
       "      <td>16.50</td>\n",
       "      <td>NaN</td>\n",
       "    </tr>\n",
       "    <tr>\n",
       "      <th>1990-06-01</th>\n",
       "      <td>8.63</td>\n",
       "      <td>6</td>\n",
       "      <td>1990</td>\n",
       "      <td>8.34</td>\n",
       "      <td>12.31</td>\n",
       "      <td>12.75</td>\n",
       "      <td>15.17</td>\n",
       "      <td>16.50</td>\n",
       "    </tr>\n",
       "    <tr>\n",
       "      <th>1990-07-01</th>\n",
       "      <td>12.37</td>\n",
       "      <td>7</td>\n",
       "      <td>1990</td>\n",
       "      <td>8.63</td>\n",
       "      <td>8.34</td>\n",
       "      <td>12.31</td>\n",
       "      <td>12.75</td>\n",
       "      <td>15.17</td>\n",
       "    </tr>\n",
       "    <tr>\n",
       "      <th>1990-08-01</th>\n",
       "      <td>11.53</td>\n",
       "      <td>8</td>\n",
       "      <td>1990</td>\n",
       "      <td>12.37</td>\n",
       "      <td>8.63</td>\n",
       "      <td>8.34</td>\n",
       "      <td>12.31</td>\n",
       "      <td>12.75</td>\n",
       "    </tr>\n",
       "    <tr>\n",
       "      <th>1990-09-01</th>\n",
       "      <td>9.47</td>\n",
       "      <td>9</td>\n",
       "      <td>1990</td>\n",
       "      <td>11.53</td>\n",
       "      <td>12.37</td>\n",
       "      <td>8.63</td>\n",
       "      <td>8.34</td>\n",
       "      <td>12.31</td>\n",
       "    </tr>\n",
       "    <tr>\n",
       "      <th>1990-10-01</th>\n",
       "      <td>9.57</td>\n",
       "      <td>10</td>\n",
       "      <td>1990</td>\n",
       "      <td>9.47</td>\n",
       "      <td>11.53</td>\n",
       "      <td>12.37</td>\n",
       "      <td>8.63</td>\n",
       "      <td>8.34</td>\n",
       "    </tr>\n",
       "  </tbody>\n",
       "</table>\n",
       "</div>"
      ],
      "text/plain": [
       "            Amount  Extract_month  Extract Year   lag1   lag2   lag3   lag4  \\\n",
       "Month                                                                         \n",
       "1990-01-01   16.50              1          1990    NaN    NaN    NaN    NaN   \n",
       "1990-02-01   15.17              2          1990  16.50    NaN    NaN    NaN   \n",
       "1990-03-01   12.75              3          1990  15.17  16.50    NaN    NaN   \n",
       "1990-04-01   12.31              4          1990  12.75  15.17  16.50    NaN   \n",
       "1990-05-01    8.34              5          1990  12.31  12.75  15.17  16.50   \n",
       "1990-06-01    8.63              6          1990   8.34  12.31  12.75  15.17   \n",
       "1990-07-01   12.37              7          1990   8.63   8.34  12.31  12.75   \n",
       "1990-08-01   11.53              8          1990  12.37   8.63   8.34  12.31   \n",
       "1990-09-01    9.47              9          1990  11.53  12.37   8.63   8.34   \n",
       "1990-10-01    9.57             10          1990   9.47  11.53  12.37   8.63   \n",
       "\n",
       "             lag5  \n",
       "Month              \n",
       "1990-01-01    NaN  \n",
       "1990-02-01    NaN  \n",
       "1990-03-01    NaN  \n",
       "1990-04-01    NaN  \n",
       "1990-05-01    NaN  \n",
       "1990-06-01  16.50  \n",
       "1990-07-01  15.17  \n",
       "1990-08-01  12.75  \n",
       "1990-09-01  12.31  \n",
       "1990-10-01   8.34  "
      ]
     },
     "execution_count": 54,
     "metadata": {},
     "output_type": "execute_result"
    }
   ],
   "source": [
    "df.head(10)"
   ]
  },
  {
   "cell_type": "code",
   "execution_count": 55,
   "metadata": {
    "id": "X9aPgcRElNIU"
   },
   "outputs": [],
   "source": [
    "df.dropna(inplace=True)"
   ]
  },
  {
   "cell_type": "code",
   "execution_count": 56,
   "metadata": {
    "colab": {
     "base_uri": "https://localhost:8080/"
    },
    "executionInfo": {
     "elapsed": 20,
     "status": "ok",
     "timestamp": 1674644899446,
     "user": {
      "displayName": "IACSD Akurdi",
      "userId": "10433988175144222979"
     },
     "user_tz": -330
    },
    "id": "GE5jlCbDnS7B",
    "outputId": "789bca6b-4fbb-4125-ff93-1da2db197a3a"
   },
   "outputs": [
    {
     "data": {
      "text/plain": [
       "(127, 8)"
      ]
     },
     "execution_count": 56,
     "metadata": {},
     "output_type": "execute_result"
    }
   ],
   "source": [
    "df.shape"
   ]
  },
  {
   "cell_type": "code",
   "execution_count": 57,
   "metadata": {
    "colab": {
     "base_uri": "https://localhost:8080/",
     "height": 281
    },
    "executionInfo": {
     "elapsed": 551,
     "status": "ok",
     "timestamp": 1674644913466,
     "user": {
      "displayName": "IACSD Akurdi",
      "userId": "10433988175144222979"
     },
     "user_tz": -330
    },
    "id": "cVIUvRCZnT3g",
    "outputId": "cddfed2d-590a-4292-d339-94e6cc592084"
   },
   "outputs": [
    {
     "data": {
      "text/html": [
       "<div>\n",
       "<style scoped>\n",
       "    .dataframe tbody tr th:only-of-type {\n",
       "        vertical-align: middle;\n",
       "    }\n",
       "\n",
       "    .dataframe tbody tr th {\n",
       "        vertical-align: top;\n",
       "    }\n",
       "\n",
       "    .dataframe thead th {\n",
       "        text-align: right;\n",
       "    }\n",
       "</style>\n",
       "<table border=\"1\" class=\"dataframe\">\n",
       "  <thead>\n",
       "    <tr style=\"text-align: right;\">\n",
       "      <th></th>\n",
       "      <th>Amount</th>\n",
       "      <th>Extract_month</th>\n",
       "      <th>Extract Year</th>\n",
       "      <th>lag1</th>\n",
       "      <th>lag2</th>\n",
       "      <th>lag3</th>\n",
       "      <th>lag4</th>\n",
       "      <th>lag5</th>\n",
       "    </tr>\n",
       "    <tr>\n",
       "      <th>Month</th>\n",
       "      <th></th>\n",
       "      <th></th>\n",
       "      <th></th>\n",
       "      <th></th>\n",
       "      <th></th>\n",
       "      <th></th>\n",
       "      <th></th>\n",
       "      <th></th>\n",
       "    </tr>\n",
       "  </thead>\n",
       "  <tbody>\n",
       "    <tr>\n",
       "      <th>1990-06-01</th>\n",
       "      <td>8.63</td>\n",
       "      <td>6</td>\n",
       "      <td>1990</td>\n",
       "      <td>8.34</td>\n",
       "      <td>12.31</td>\n",
       "      <td>12.75</td>\n",
       "      <td>15.17</td>\n",
       "      <td>16.50</td>\n",
       "    </tr>\n",
       "    <tr>\n",
       "      <th>1990-07-01</th>\n",
       "      <td>12.37</td>\n",
       "      <td>7</td>\n",
       "      <td>1990</td>\n",
       "      <td>8.63</td>\n",
       "      <td>8.34</td>\n",
       "      <td>12.31</td>\n",
       "      <td>12.75</td>\n",
       "      <td>15.17</td>\n",
       "    </tr>\n",
       "    <tr>\n",
       "      <th>1990-08-01</th>\n",
       "      <td>11.53</td>\n",
       "      <td>8</td>\n",
       "      <td>1990</td>\n",
       "      <td>12.37</td>\n",
       "      <td>8.63</td>\n",
       "      <td>8.34</td>\n",
       "      <td>12.31</td>\n",
       "      <td>12.75</td>\n",
       "    </tr>\n",
       "    <tr>\n",
       "      <th>1990-09-01</th>\n",
       "      <td>9.47</td>\n",
       "      <td>9</td>\n",
       "      <td>1990</td>\n",
       "      <td>11.53</td>\n",
       "      <td>12.37</td>\n",
       "      <td>8.63</td>\n",
       "      <td>8.34</td>\n",
       "      <td>12.31</td>\n",
       "    </tr>\n",
       "    <tr>\n",
       "      <th>1990-10-01</th>\n",
       "      <td>9.57</td>\n",
       "      <td>10</td>\n",
       "      <td>1990</td>\n",
       "      <td>9.47</td>\n",
       "      <td>11.53</td>\n",
       "      <td>12.37</td>\n",
       "      <td>8.63</td>\n",
       "      <td>8.34</td>\n",
       "    </tr>\n",
       "  </tbody>\n",
       "</table>\n",
       "</div>"
      ],
      "text/plain": [
       "            Amount  Extract_month  Extract Year   lag1   lag2   lag3   lag4  \\\n",
       "Month                                                                         \n",
       "1990-06-01    8.63              6          1990   8.34  12.31  12.75  15.17   \n",
       "1990-07-01   12.37              7          1990   8.63   8.34  12.31  12.75   \n",
       "1990-08-01   11.53              8          1990  12.37   8.63   8.34  12.31   \n",
       "1990-09-01    9.47              9          1990  11.53  12.37   8.63   8.34   \n",
       "1990-10-01    9.57             10          1990   9.47  11.53  12.37   8.63   \n",
       "\n",
       "             lag5  \n",
       "Month              \n",
       "1990-06-01  16.50  \n",
       "1990-07-01  15.17  \n",
       "1990-08-01  12.75  \n",
       "1990-09-01  12.31  \n",
       "1990-10-01   8.34  "
      ]
     },
     "execution_count": 57,
     "metadata": {},
     "output_type": "execute_result"
    }
   ],
   "source": [
    "df.head()"
   ]
  },
  {
   "cell_type": "markdown",
   "metadata": {
    "id": "a_EAOaLMpbF4"
   },
   "source": [
    "# X & Y split"
   ]
  },
  {
   "cell_type": "code",
   "execution_count": 58,
   "metadata": {
    "id": "5W0dpBNApgvq"
   },
   "outputs": [],
   "source": [
    "X = df.loc[:,['lag1','lag2','lag3','lag4','lag5']]\n",
    "y = df.loc[:,'Amount']"
   ]
  },
  {
   "cell_type": "code",
   "execution_count": 59,
   "metadata": {
    "colab": {
     "base_uri": "https://localhost:8080/"
    },
    "executionInfo": {
     "elapsed": 12,
     "status": "ok",
     "timestamp": 1674645519958,
     "user": {
      "displayName": "IACSD Akurdi",
      "userId": "10433988175144222979"
     },
     "user_tz": -330
    },
    "id": "qiQkhNvFpqPg",
    "outputId": "4d08dc72-99a2-4988-fce1-5ba622970f9e"
   },
   "outputs": [
    {
     "data": {
      "text/plain": [
       "((127, 5), (127,))"
      ]
     },
     "execution_count": 59,
     "metadata": {},
     "output_type": "execute_result"
    }
   ],
   "source": [
    "X.shape,y.shape"
   ]
  },
  {
   "cell_type": "markdown",
   "metadata": {
    "id": "tBaLqiS8pwSZ"
   },
   "source": [
    "# Train test split"
   ]
  },
  {
   "cell_type": "code",
   "execution_count": 60,
   "metadata": {
    "id": "Bl59V_Dbp9xA"
   },
   "outputs": [],
   "source": [
    "from sklearn.model_selection import train_test_split"
   ]
  },
  {
   "cell_type": "code",
   "execution_count": 62,
   "metadata": {
    "id": "ff_Ha1bfqBVF"
   },
   "outputs": [],
   "source": [
    "X_train,X_test,y_train,y_test = train_test_split(X,y,\n",
    "                                                 test_size=0.1,\n",
    "                                                 random_state=7)"
   ]
  },
  {
   "cell_type": "code",
   "execution_count": 63,
   "metadata": {
    "colab": {
     "base_uri": "https://localhost:8080/"
    },
    "executionInfo": {
     "elapsed": 373,
     "status": "ok",
     "timestamp": 1674645783399,
     "user": {
      "displayName": "IACSD Akurdi",
      "userId": "10433988175144222979"
     },
     "user_tz": -330
    },
    "id": "2KqXrrW5qopO",
    "outputId": "384f8a6a-6e1b-4540-c875-2e47d440b53a"
   },
   "outputs": [
    {
     "data": {
      "text/plain": [
       "((114, 5), (13, 5), (114,), (13,))"
      ]
     },
     "execution_count": 63,
     "metadata": {},
     "output_type": "execute_result"
    }
   ],
   "source": [
    "X_train.shape,X_test.shape,y_train.shape,y_test.shape"
   ]
  },
  {
   "cell_type": "markdown",
   "metadata": {
    "id": "aVwGVgTcpUyx"
   },
   "source": [
    "# LASSO"
   ]
  },
  {
   "cell_type": "code",
   "execution_count": 71,
   "metadata": {
    "id": "cLqMBx98nXW4"
   },
   "outputs": [],
   "source": [
    "from sklearn.linear_model import Lasso\n",
    "la = Lasso(random_state = 7)\n"
   ]
  },
  {
   "cell_type": "code",
   "execution_count": 72,
   "metadata": {},
   "outputs": [
    {
     "data": {
      "text/plain": [
       "Lasso(random_state=7)"
      ]
     },
     "execution_count": 72,
     "metadata": {},
     "output_type": "execute_result"
    }
   ],
   "source": [
    "la.fit(X_train,y_train)"
   ]
  },
  {
   "cell_type": "code",
   "execution_count": 73,
   "metadata": {},
   "outputs": [],
   "source": [
    "y_pred1 = la.predict(X_test)"
   ]
  },
  {
   "cell_type": "code",
   "execution_count": 74,
   "metadata": {},
   "outputs": [
    {
     "data": {
      "text/plain": [
       "((13,), (13,))"
      ]
     },
     "execution_count": 74,
     "metadata": {},
     "output_type": "execute_result"
    }
   ],
   "source": [
    "y_pred1.shape,y_test.shape"
   ]
  },
  {
   "cell_type": "code",
   "execution_count": 75,
   "metadata": {},
   "outputs": [
    {
     "data": {
      "text/plain": [
       "3.1071959886978013"
      ]
     },
     "execution_count": 75,
     "metadata": {},
     "output_type": "execute_result"
    }
   ],
   "source": [
    "mean_absolute_error(y_test, y_pred1)"
   ]
  },
  {
   "cell_type": "markdown",
   "metadata": {
    "id": "zTulU_gIpW2x"
   },
   "source": [
    "# Elasticnet"
   ]
  },
  {
   "cell_type": "code",
   "execution_count": 64,
   "metadata": {
    "id": "JMO9Zjdcq61y"
   },
   "outputs": [],
   "source": [
    "from sklearn.linear_model import ElasticNet"
   ]
  },
  {
   "cell_type": "code",
   "execution_count": 65,
   "metadata": {
    "id": "SpHVDoX5q_KK"
   },
   "outputs": [],
   "source": [
    "en = ElasticNet(random_state=7)"
   ]
  },
  {
   "cell_type": "code",
   "execution_count": 66,
   "metadata": {
    "colab": {
     "base_uri": "https://localhost:8080/"
    },
    "executionInfo": {
     "elapsed": 14,
     "status": "ok",
     "timestamp": 1674646000387,
     "user": {
      "displayName": "IACSD Akurdi",
      "userId": "10433988175144222979"
     },
     "user_tz": -330
    },
    "id": "Mn1RNx8jremx",
    "outputId": "5a02a243-df05-4106-fe54-c29ef34e8955"
   },
   "outputs": [
    {
     "data": {
      "text/plain": [
       "ElasticNet(random_state=7)"
      ]
     },
     "execution_count": 66,
     "metadata": {},
     "output_type": "execute_result"
    }
   ],
   "source": [
    "en.fit(X_train,y_train)"
   ]
  },
  {
   "cell_type": "code",
   "execution_count": 67,
   "metadata": {
    "id": "bZX8J52Rrgt6"
   },
   "outputs": [],
   "source": [
    "y_pred = en.predict(X_test)"
   ]
  },
  {
   "cell_type": "code",
   "execution_count": 68,
   "metadata": {
    "colab": {
     "base_uri": "https://localhost:8080/"
    },
    "executionInfo": {
     "elapsed": 5,
     "status": "ok",
     "timestamp": 1674646025600,
     "user": {
      "displayName": "IACSD Akurdi",
      "userId": "10433988175144222979"
     },
     "user_tz": -330
    },
    "id": "IOZA-gYSrkw4",
    "outputId": "a62b18c8-2f08-4ae0-8cb0-e9c5c7caa931"
   },
   "outputs": [
    {
     "data": {
      "text/plain": [
       "((13,), (13,))"
      ]
     },
     "execution_count": 68,
     "metadata": {},
     "output_type": "execute_result"
    }
   ],
   "source": [
    "y_pred.shape,y_test.shape"
   ]
  },
  {
   "cell_type": "code",
   "execution_count": 69,
   "metadata": {
    "colab": {
     "base_uri": "https://localhost:8080/"
    },
    "executionInfo": {
     "elapsed": 404,
     "status": "ok",
     "timestamp": 1674646061202,
     "user": {
      "displayName": "IACSD Akurdi",
      "userId": "10433988175144222979"
     },
     "user_tz": -330
    },
    "id": "Anee4V-arm8A",
    "outputId": "d4261efd-580d-4c3a-e64f-64753c9205d4"
   },
   "outputs": [
    {
     "data": {
      "text/plain": [
       "3.026912026440241"
      ]
     },
     "execution_count": 69,
     "metadata": {},
     "output_type": "execute_result"
    }
   ],
   "source": [
    "mean_absolute_error(y_test, y_pred)"
   ]
  },
  {
   "cell_type": "code",
   "execution_count": null,
   "metadata": {},
   "outputs": [],
   "source": []
  }
 ],
 "metadata": {
  "colab": {
   "provenance": []
  },
  "kernelspec": {
   "display_name": "Python 3 (ipykernel)",
   "language": "python",
   "name": "python3"
  },
  "language_info": {
   "codemirror_mode": {
    "name": "ipython",
    "version": 3
   },
   "file_extension": ".py",
   "mimetype": "text/x-python",
   "name": "python",
   "nbconvert_exporter": "python",
   "pygments_lexer": "ipython3",
   "version": "3.10.1"
  }
 },
 "nbformat": 4,
 "nbformat_minor": 1
}
