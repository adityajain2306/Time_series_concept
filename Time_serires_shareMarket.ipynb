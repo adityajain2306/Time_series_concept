{
 "cells": [
  {
   "cell_type": "code",
   "execution_count": 1,
   "id": "cfc4e49a",
   "metadata": {},
   "outputs": [],
   "source": [
    "import pandas as pd"
   ]
  },
  {
   "cell_type": "code",
   "execution_count": 2,
   "id": "feea514e",
   "metadata": {},
   "outputs": [],
   "source": [
    "df=pd.read_csv('HistoricalQuotes.csv')"
   ]
  },
  {
   "cell_type": "code",
   "execution_count": 3,
   "id": "214f0203",
   "metadata": {},
   "outputs": [
    {
     "name": "stdout",
     "output_type": "stream",
     "text": [
      "<class 'pandas.core.frame.DataFrame'>\n",
      "RangeIndex: 253 entries, 0 to 252\n",
      "Data columns (total 6 columns):\n",
      " #   Column  Non-Null Count  Dtype  \n",
      "---  ------  --------------  -----  \n",
      " 0   date    253 non-null    object \n",
      " 1   close   253 non-null    float64\n",
      " 2   volume  253 non-null    object \n",
      " 3   open    253 non-null    float64\n",
      " 4   high    253 non-null    float64\n",
      " 5   low     253 non-null    float64\n",
      "dtypes: float64(4), object(2)\n",
      "memory usage: 12.0+ KB\n"
     ]
    }
   ],
   "source": [
    "df.info()"
   ]
  },
  {
   "cell_type": "code",
   "execution_count": 8,
   "id": "e4330fb3",
   "metadata": {},
   "outputs": [],
   "source": [
    "df = pd.read_csv(\"HistoricalQuotes.csv\",\n",
    "                 parse_dates=['date'])\n",
    "# date format is MM - DD - YYYY"
   ]
  },
  {
   "cell_type": "code",
   "execution_count": 9,
   "id": "602e6c03",
   "metadata": {},
   "outputs": [
    {
     "name": "stdout",
     "output_type": "stream",
     "text": [
      "<class 'pandas.core.frame.DataFrame'>\n",
      "RangeIndex: 253 entries, 0 to 252\n",
      "Data columns (total 6 columns):\n",
      " #   Column  Non-Null Count  Dtype         \n",
      "---  ------  --------------  -----         \n",
      " 0   date    253 non-null    datetime64[ns]\n",
      " 1   close   253 non-null    float64       \n",
      " 2   volume  253 non-null    object        \n",
      " 3   open    253 non-null    float64       \n",
      " 4   high    253 non-null    float64       \n",
      " 5   low     253 non-null    float64       \n",
      "dtypes: datetime64[ns](1), float64(4), object(1)\n",
      "memory usage: 12.0+ KB\n"
     ]
    }
   ],
   "source": [
    "df.info()"
   ]
  },
  {
   "cell_type": "code",
   "execution_count": 10,
   "id": "be1bdc02",
   "metadata": {},
   "outputs": [
    {
     "data": {
      "text/plain": [
       "(253, 6)"
      ]
     },
     "execution_count": 10,
     "metadata": {},
     "output_type": "execute_result"
    }
   ],
   "source": [
    "df.shape"
   ]
  },
  {
   "cell_type": "code",
   "execution_count": 11,
   "id": "cfaf85fe",
   "metadata": {},
   "outputs": [],
   "source": [
    "df.set_index('date',inplace=True)"
   ]
  },
  {
   "cell_type": "code",
   "execution_count": 13,
   "id": "adaadc75",
   "metadata": {},
   "outputs": [
    {
     "data": {
      "text/html": [
       "<div>\n",
       "<style scoped>\n",
       "    .dataframe tbody tr th:only-of-type {\n",
       "        vertical-align: middle;\n",
       "    }\n",
       "\n",
       "    .dataframe tbody tr th {\n",
       "        vertical-align: top;\n",
       "    }\n",
       "\n",
       "    .dataframe thead th {\n",
       "        text-align: right;\n",
       "    }\n",
       "</style>\n",
       "<table border=\"1\" class=\"dataframe\">\n",
       "  <thead>\n",
       "    <tr style=\"text-align: right;\">\n",
       "      <th></th>\n",
       "      <th>close</th>\n",
       "      <th>volume</th>\n",
       "      <th>open</th>\n",
       "      <th>high</th>\n",
       "      <th>low</th>\n",
       "    </tr>\n",
       "    <tr>\n",
       "      <th>date</th>\n",
       "      <th></th>\n",
       "      <th></th>\n",
       "      <th></th>\n",
       "      <th></th>\n",
       "      <th></th>\n",
       "    </tr>\n",
       "  </thead>\n",
       "  <tbody>\n",
       "    <tr>\n",
       "      <th>2019-08-10</th>\n",
       "      <td>200.99</td>\n",
       "      <td>24,619,446</td>\n",
       "      <td>201.23</td>\n",
       "      <td>202.760</td>\n",
       "      <td>199.29</td>\n",
       "    </tr>\n",
       "    <tr>\n",
       "      <th>2019-08-09</th>\n",
       "      <td>200.99</td>\n",
       "      <td>24619750.0000</td>\n",
       "      <td>201.30</td>\n",
       "      <td>202.760</td>\n",
       "      <td>199.29</td>\n",
       "    </tr>\n",
       "    <tr>\n",
       "      <th>2019-08-08</th>\n",
       "      <td>203.43</td>\n",
       "      <td>27009520.0000</td>\n",
       "      <td>200.20</td>\n",
       "      <td>203.530</td>\n",
       "      <td>199.39</td>\n",
       "    </tr>\n",
       "    <tr>\n",
       "      <th>2019-08-07</th>\n",
       "      <td>199.04</td>\n",
       "      <td>33364400.0000</td>\n",
       "      <td>195.41</td>\n",
       "      <td>199.560</td>\n",
       "      <td>193.82</td>\n",
       "    </tr>\n",
       "    <tr>\n",
       "      <th>2019-08-06</th>\n",
       "      <td>197.00</td>\n",
       "      <td>35824790.0000</td>\n",
       "      <td>196.31</td>\n",
       "      <td>198.067</td>\n",
       "      <td>194.04</td>\n",
       "    </tr>\n",
       "  </tbody>\n",
       "</table>\n",
       "</div>"
      ],
      "text/plain": [
       "             close         volume    open     high     low\n",
       "date                                                      \n",
       "2019-08-10  200.99     24,619,446  201.23  202.760  199.29\n",
       "2019-08-09  200.99  24619750.0000  201.30  202.760  199.29\n",
       "2019-08-08  203.43  27009520.0000  200.20  203.530  199.39\n",
       "2019-08-07  199.04  33364400.0000  195.41  199.560  193.82\n",
       "2019-08-06  197.00  35824790.0000  196.31  198.067  194.04"
      ]
     },
     "execution_count": 13,
     "metadata": {},
     "output_type": "execute_result"
    }
   ],
   "source": [
    "df.head()"
   ]
  },
  {
   "cell_type": "code",
   "execution_count": 14,
   "id": "ee221f3a",
   "metadata": {},
   "outputs": [],
   "source": [
    "df.sort_index(inplace=True)"
   ]
  },
  {
   "cell_type": "code",
   "execution_count": 15,
   "id": "4c82662a",
   "metadata": {},
   "outputs": [
    {
     "data": {
      "text/html": [
       "<div>\n",
       "<style scoped>\n",
       "    .dataframe tbody tr th:only-of-type {\n",
       "        vertical-align: middle;\n",
       "    }\n",
       "\n",
       "    .dataframe tbody tr th {\n",
       "        vertical-align: top;\n",
       "    }\n",
       "\n",
       "    .dataframe thead th {\n",
       "        text-align: right;\n",
       "    }\n",
       "</style>\n",
       "<table border=\"1\" class=\"dataframe\">\n",
       "  <thead>\n",
       "    <tr style=\"text-align: right;\">\n",
       "      <th></th>\n",
       "      <th>close</th>\n",
       "      <th>volume</th>\n",
       "      <th>open</th>\n",
       "      <th>high</th>\n",
       "      <th>low</th>\n",
       "    </tr>\n",
       "    <tr>\n",
       "      <th>date</th>\n",
       "      <th></th>\n",
       "      <th></th>\n",
       "      <th></th>\n",
       "      <th></th>\n",
       "      <th></th>\n",
       "    </tr>\n",
       "  </thead>\n",
       "  <tbody>\n",
       "    <tr>\n",
       "      <th>2018-08-09</th>\n",
       "      <td>208.88</td>\n",
       "      <td>23389530.0000</td>\n",
       "      <td>207.280</td>\n",
       "      <td>209.780</td>\n",
       "      <td>207.20</td>\n",
       "    </tr>\n",
       "    <tr>\n",
       "      <th>2018-08-10</th>\n",
       "      <td>207.53</td>\n",
       "      <td>24592460.0000</td>\n",
       "      <td>207.360</td>\n",
       "      <td>209.100</td>\n",
       "      <td>206.67</td>\n",
       "    </tr>\n",
       "    <tr>\n",
       "      <th>2018-08-13</th>\n",
       "      <td>208.87</td>\n",
       "      <td>25864510.0000</td>\n",
       "      <td>207.700</td>\n",
       "      <td>210.952</td>\n",
       "      <td>207.70</td>\n",
       "    </tr>\n",
       "    <tr>\n",
       "      <th>2018-08-14</th>\n",
       "      <td>209.75</td>\n",
       "      <td>20679270.0000</td>\n",
       "      <td>210.155</td>\n",
       "      <td>210.560</td>\n",
       "      <td>208.26</td>\n",
       "    </tr>\n",
       "    <tr>\n",
       "      <th>2018-08-15</th>\n",
       "      <td>210.24</td>\n",
       "      <td>28595230.0000</td>\n",
       "      <td>209.220</td>\n",
       "      <td>210.740</td>\n",
       "      <td>208.33</td>\n",
       "    </tr>\n",
       "  </tbody>\n",
       "</table>\n",
       "</div>"
      ],
      "text/plain": [
       "             close         volume     open     high     low\n",
       "date                                                       \n",
       "2018-08-09  208.88  23389530.0000  207.280  209.780  207.20\n",
       "2018-08-10  207.53  24592460.0000  207.360  209.100  206.67\n",
       "2018-08-13  208.87  25864510.0000  207.700  210.952  207.70\n",
       "2018-08-14  209.75  20679270.0000  210.155  210.560  208.26\n",
       "2018-08-15  210.24  28595230.0000  209.220  210.740  208.33"
      ]
     },
     "execution_count": 15,
     "metadata": {},
     "output_type": "execute_result"
    }
   ],
   "source": [
    "df.head()"
   ]
  },
  {
   "cell_type": "markdown",
   "id": "fdd2fffd",
   "metadata": {},
   "source": [
    "# Missing value filling\n",
    "freq in B days"
   ]
  },
  {
   "cell_type": "code",
   "execution_count": 17,
   "id": "3d22b751",
   "metadata": {},
   "outputs": [],
   "source": [
    "df = df.asfreq('B')"
   ]
  },
  {
   "cell_type": "code",
   "execution_count": 18,
   "id": "79a86f4a",
   "metadata": {},
   "outputs": [
    {
     "data": {
      "text/plain": [
       "close     10\n",
       "volume    10\n",
       "open      10\n",
       "high      10\n",
       "low       10\n",
       "dtype: int64"
      ]
     },
     "execution_count": 18,
     "metadata": {},
     "output_type": "execute_result"
    }
   ],
   "source": [
    "df.isna().sum()"
   ]
  },
  {
   "cell_type": "code",
   "execution_count": 19,
   "id": "9b711492",
   "metadata": {},
   "outputs": [],
   "source": [
    "df.fillna(method='ffill',inplace=True)"
   ]
  },
  {
   "cell_type": "code",
   "execution_count": 20,
   "id": "fa05bd44",
   "metadata": {},
   "outputs": [
    {
     "data": {
      "text/plain": [
       "close     0\n",
       "volume    0\n",
       "open      0\n",
       "high      0\n",
       "low       0\n",
       "dtype: int64"
      ]
     },
     "execution_count": 20,
     "metadata": {},
     "output_type": "execute_result"
    }
   ],
   "source": [
    "df.isna().sum()"
   ]
  },
  {
   "cell_type": "code",
   "execution_count": 22,
   "id": "c847e07b",
   "metadata": {},
   "outputs": [
    {
     "data": {
      "text/plain": [
       "(262, 6)"
      ]
     },
     "execution_count": 22,
     "metadata": {},
     "output_type": "execute_result"
    }
   ],
   "source": [
    "df.shape"
   ]
  },
  {
   "cell_type": "markdown",
   "id": "2595cdf6",
   "metadata": {},
   "source": [
    "# Create log columns based on close"
   ]
  },
  {
   "cell_type": "code",
   "execution_count": 23,
   "id": "7bb021bc",
   "metadata": {},
   "outputs": [],
   "source": [
    "df['lag1'] = df['close'].shift(1)\n",
    "df['lag2'] = df['close'].shift(2)\n",
    "df['lag3'] = df['close'].shift(3)\n",
    "df['lag4'] = df['close'].shift(4)\n",
    "df['lag5'] = df['close'].shift(5)"
   ]
  },
  {
   "cell_type": "code",
   "execution_count": 24,
   "id": "3f3cfbf2",
   "metadata": {},
   "outputs": [
    {
     "data": {
      "text/html": [
       "<div>\n",
       "<style scoped>\n",
       "    .dataframe tbody tr th:only-of-type {\n",
       "        vertical-align: middle;\n",
       "    }\n",
       "\n",
       "    .dataframe tbody tr th {\n",
       "        vertical-align: top;\n",
       "    }\n",
       "\n",
       "    .dataframe thead th {\n",
       "        text-align: right;\n",
       "    }\n",
       "</style>\n",
       "<table border=\"1\" class=\"dataframe\">\n",
       "  <thead>\n",
       "    <tr style=\"text-align: right;\">\n",
       "      <th></th>\n",
       "      <th>close</th>\n",
       "      <th>volume</th>\n",
       "      <th>open</th>\n",
       "      <th>high</th>\n",
       "      <th>low</th>\n",
       "      <th>lag1</th>\n",
       "      <th>lag2</th>\n",
       "      <th>lag3</th>\n",
       "      <th>lag4</th>\n",
       "      <th>lag5</th>\n",
       "    </tr>\n",
       "    <tr>\n",
       "      <th>date</th>\n",
       "      <th></th>\n",
       "      <th></th>\n",
       "      <th></th>\n",
       "      <th></th>\n",
       "      <th></th>\n",
       "      <th></th>\n",
       "      <th></th>\n",
       "      <th></th>\n",
       "      <th></th>\n",
       "      <th></th>\n",
       "    </tr>\n",
       "  </thead>\n",
       "  <tbody>\n",
       "    <tr>\n",
       "      <th>2018-08-09</th>\n",
       "      <td>208.88</td>\n",
       "      <td>23389530.0000</td>\n",
       "      <td>207.280</td>\n",
       "      <td>209.780</td>\n",
       "      <td>207.20</td>\n",
       "      <td>NaN</td>\n",
       "      <td>NaN</td>\n",
       "      <td>NaN</td>\n",
       "      <td>NaN</td>\n",
       "      <td>NaN</td>\n",
       "    </tr>\n",
       "    <tr>\n",
       "      <th>2018-08-10</th>\n",
       "      <td>207.53</td>\n",
       "      <td>24592460.0000</td>\n",
       "      <td>207.360</td>\n",
       "      <td>209.100</td>\n",
       "      <td>206.67</td>\n",
       "      <td>208.88</td>\n",
       "      <td>NaN</td>\n",
       "      <td>NaN</td>\n",
       "      <td>NaN</td>\n",
       "      <td>NaN</td>\n",
       "    </tr>\n",
       "    <tr>\n",
       "      <th>2018-08-13</th>\n",
       "      <td>208.87</td>\n",
       "      <td>25864510.0000</td>\n",
       "      <td>207.700</td>\n",
       "      <td>210.952</td>\n",
       "      <td>207.70</td>\n",
       "      <td>207.53</td>\n",
       "      <td>208.88</td>\n",
       "      <td>NaN</td>\n",
       "      <td>NaN</td>\n",
       "      <td>NaN</td>\n",
       "    </tr>\n",
       "    <tr>\n",
       "      <th>2018-08-14</th>\n",
       "      <td>209.75</td>\n",
       "      <td>20679270.0000</td>\n",
       "      <td>210.155</td>\n",
       "      <td>210.560</td>\n",
       "      <td>208.26</td>\n",
       "      <td>208.87</td>\n",
       "      <td>207.53</td>\n",
       "      <td>208.88</td>\n",
       "      <td>NaN</td>\n",
       "      <td>NaN</td>\n",
       "    </tr>\n",
       "    <tr>\n",
       "      <th>2018-08-15</th>\n",
       "      <td>210.24</td>\n",
       "      <td>28595230.0000</td>\n",
       "      <td>209.220</td>\n",
       "      <td>210.740</td>\n",
       "      <td>208.33</td>\n",
       "      <td>209.75</td>\n",
       "      <td>208.87</td>\n",
       "      <td>207.53</td>\n",
       "      <td>208.88</td>\n",
       "      <td>NaN</td>\n",
       "    </tr>\n",
       "  </tbody>\n",
       "</table>\n",
       "</div>"
      ],
      "text/plain": [
       "             close         volume     open     high     low    lag1    lag2  \\\n",
       "date                                                                          \n",
       "2018-08-09  208.88  23389530.0000  207.280  209.780  207.20     NaN     NaN   \n",
       "2018-08-10  207.53  24592460.0000  207.360  209.100  206.67  208.88     NaN   \n",
       "2018-08-13  208.87  25864510.0000  207.700  210.952  207.70  207.53  208.88   \n",
       "2018-08-14  209.75  20679270.0000  210.155  210.560  208.26  208.87  207.53   \n",
       "2018-08-15  210.24  28595230.0000  209.220  210.740  208.33  209.75  208.87   \n",
       "\n",
       "              lag3    lag4  lag5  \n",
       "date                              \n",
       "2018-08-09     NaN     NaN   NaN  \n",
       "2018-08-10     NaN     NaN   NaN  \n",
       "2018-08-13     NaN     NaN   NaN  \n",
       "2018-08-14  208.88     NaN   NaN  \n",
       "2018-08-15  207.53  208.88   NaN  "
      ]
     },
     "execution_count": 24,
     "metadata": {},
     "output_type": "execute_result"
    }
   ],
   "source": [
    "df.head()"
   ]
  },
  {
   "cell_type": "code",
   "execution_count": 25,
   "id": "4afa27eb",
   "metadata": {},
   "outputs": [],
   "source": [
    "df.dropna(inplace=True)"
   ]
  },
  {
   "cell_type": "code",
   "execution_count": 26,
   "id": "c8c93db3",
   "metadata": {},
   "outputs": [
    {
     "data": {
      "text/plain": [
       "(257, 10)"
      ]
     },
     "execution_count": 26,
     "metadata": {},
     "output_type": "execute_result"
    }
   ],
   "source": [
    "df.shape"
   ]
  },
  {
   "cell_type": "code",
   "execution_count": 27,
   "id": "20a2071f",
   "metadata": {},
   "outputs": [
    {
     "data": {
      "text/html": [
       "<div>\n",
       "<style scoped>\n",
       "    .dataframe tbody tr th:only-of-type {\n",
       "        vertical-align: middle;\n",
       "    }\n",
       "\n",
       "    .dataframe tbody tr th {\n",
       "        vertical-align: top;\n",
       "    }\n",
       "\n",
       "    .dataframe thead th {\n",
       "        text-align: right;\n",
       "    }\n",
       "</style>\n",
       "<table border=\"1\" class=\"dataframe\">\n",
       "  <thead>\n",
       "    <tr style=\"text-align: right;\">\n",
       "      <th></th>\n",
       "      <th>close</th>\n",
       "      <th>volume</th>\n",
       "      <th>open</th>\n",
       "      <th>high</th>\n",
       "      <th>low</th>\n",
       "      <th>lag1</th>\n",
       "      <th>lag2</th>\n",
       "      <th>lag3</th>\n",
       "      <th>lag4</th>\n",
       "      <th>lag5</th>\n",
       "    </tr>\n",
       "    <tr>\n",
       "      <th>date</th>\n",
       "      <th></th>\n",
       "      <th></th>\n",
       "      <th></th>\n",
       "      <th></th>\n",
       "      <th></th>\n",
       "      <th></th>\n",
       "      <th></th>\n",
       "      <th></th>\n",
       "      <th></th>\n",
       "      <th></th>\n",
       "    </tr>\n",
       "  </thead>\n",
       "  <tbody>\n",
       "    <tr>\n",
       "      <th>2018-08-16</th>\n",
       "      <td>213.32</td>\n",
       "      <td>27595310.0000</td>\n",
       "      <td>211.75</td>\n",
       "      <td>213.8121</td>\n",
       "      <td>211.470</td>\n",
       "      <td>210.24</td>\n",
       "      <td>209.75</td>\n",
       "      <td>208.87</td>\n",
       "      <td>207.53</td>\n",
       "      <td>208.88</td>\n",
       "    </tr>\n",
       "    <tr>\n",
       "      <th>2018-08-17</th>\n",
       "      <td>217.58</td>\n",
       "      <td>35034410.0000</td>\n",
       "      <td>213.44</td>\n",
       "      <td>217.9500</td>\n",
       "      <td>213.160</td>\n",
       "      <td>213.32</td>\n",
       "      <td>210.24</td>\n",
       "      <td>209.75</td>\n",
       "      <td>208.87</td>\n",
       "      <td>207.53</td>\n",
       "    </tr>\n",
       "    <tr>\n",
       "      <th>2018-08-20</th>\n",
       "      <td>215.46</td>\n",
       "      <td>30149410.0000</td>\n",
       "      <td>218.10</td>\n",
       "      <td>219.1800</td>\n",
       "      <td>215.110</td>\n",
       "      <td>217.58</td>\n",
       "      <td>213.32</td>\n",
       "      <td>210.24</td>\n",
       "      <td>209.75</td>\n",
       "      <td>208.87</td>\n",
       "    </tr>\n",
       "    <tr>\n",
       "      <th>2018-08-21</th>\n",
       "      <td>215.04</td>\n",
       "      <td>25682700.0000</td>\n",
       "      <td>216.80</td>\n",
       "      <td>217.1900</td>\n",
       "      <td>214.025</td>\n",
       "      <td>215.46</td>\n",
       "      <td>217.58</td>\n",
       "      <td>213.32</td>\n",
       "      <td>210.24</td>\n",
       "      <td>209.75</td>\n",
       "    </tr>\n",
       "    <tr>\n",
       "      <th>2018-08-22</th>\n",
       "      <td>215.05</td>\n",
       "      <td>18965930.0000</td>\n",
       "      <td>214.10</td>\n",
       "      <td>216.3600</td>\n",
       "      <td>213.840</td>\n",
       "      <td>215.04</td>\n",
       "      <td>215.46</td>\n",
       "      <td>217.58</td>\n",
       "      <td>213.32</td>\n",
       "      <td>210.24</td>\n",
       "    </tr>\n",
       "  </tbody>\n",
       "</table>\n",
       "</div>"
      ],
      "text/plain": [
       "             close         volume    open      high      low    lag1    lag2  \\\n",
       "date                                                                           \n",
       "2018-08-16  213.32  27595310.0000  211.75  213.8121  211.470  210.24  209.75   \n",
       "2018-08-17  217.58  35034410.0000  213.44  217.9500  213.160  213.32  210.24   \n",
       "2018-08-20  215.46  30149410.0000  218.10  219.1800  215.110  217.58  213.32   \n",
       "2018-08-21  215.04  25682700.0000  216.80  217.1900  214.025  215.46  217.58   \n",
       "2018-08-22  215.05  18965930.0000  214.10  216.3600  213.840  215.04  215.46   \n",
       "\n",
       "              lag3    lag4    lag5  \n",
       "date                                \n",
       "2018-08-16  208.87  207.53  208.88  \n",
       "2018-08-17  209.75  208.87  207.53  \n",
       "2018-08-20  210.24  209.75  208.87  \n",
       "2018-08-21  213.32  210.24  209.75  \n",
       "2018-08-22  217.58  213.32  210.24  "
      ]
     },
     "execution_count": 27,
     "metadata": {},
     "output_type": "execute_result"
    }
   ],
   "source": [
    "df.head()"
   ]
  },
  {
   "cell_type": "markdown",
   "id": "4e298d13",
   "metadata": {},
   "source": [
    "# X&Y "
   ]
  },
  {
   "cell_type": "code",
   "execution_count": 28,
   "id": "019fabae",
   "metadata": {},
   "outputs": [],
   "source": [
    "X = df.loc[:,['lag1','lag2','lag3','lag4','lag5']]\n",
    "y = df.loc[:,'close']"
   ]
  },
  {
   "cell_type": "code",
   "execution_count": 30,
   "id": "34c87ae4",
   "metadata": {},
   "outputs": [
    {
     "data": {
      "text/plain": [
       "((257, 5), (257,))"
      ]
     },
     "execution_count": 30,
     "metadata": {},
     "output_type": "execute_result"
    }
   ],
   "source": [
    "X.shape,y.shape"
   ]
  },
  {
   "cell_type": "code",
   "execution_count": 31,
   "id": "9b4eed28",
   "metadata": {},
   "outputs": [],
   "source": [
    "from sklearn.model_selection import train_test_split"
   ]
  },
  {
   "cell_type": "code",
   "execution_count": 32,
   "id": "f82103b1",
   "metadata": {},
   "outputs": [],
   "source": [
    "X_train,X_test,y_train,y_test = train_test_split(X,y,\n",
    "                                                 test_size=0.1,\n",
    "                                                 random_state=7)"
   ]
  },
  {
   "cell_type": "code",
   "execution_count": 33,
   "id": "3ec97e91",
   "metadata": {},
   "outputs": [
    {
     "data": {
      "text/plain": [
       "((231, 5), (26, 5), (231,), (26,))"
      ]
     },
     "execution_count": 33,
     "metadata": {},
     "output_type": "execute_result"
    }
   ],
   "source": [
    "X_train.shape,X_test.shape,y_train.shape,y_test.shape"
   ]
  },
  {
   "cell_type": "markdown",
   "id": "da89597f",
   "metadata": {},
   "source": [
    "# Elastic Net"
   ]
  },
  {
   "cell_type": "code",
   "execution_count": 35,
   "id": "0de6a628",
   "metadata": {},
   "outputs": [],
   "source": [
    "from sklearn.linear_model import ElasticNet\n",
    "from sklearn.metrics import mean_absolute_error, mean_squared_error"
   ]
  },
  {
   "cell_type": "code",
   "execution_count": 36,
   "id": "575b68c8",
   "metadata": {},
   "outputs": [],
   "source": [
    "en = ElasticNet(random_state=7)"
   ]
  },
  {
   "cell_type": "code",
   "execution_count": 37,
   "id": "48fa71dc",
   "metadata": {},
   "outputs": [
    {
     "data": {
      "text/plain": [
       "ElasticNet(random_state=7)"
      ]
     },
     "execution_count": 37,
     "metadata": {},
     "output_type": "execute_result"
    }
   ],
   "source": [
    "en.fit(X_train,y_train)"
   ]
  },
  {
   "cell_type": "code",
   "execution_count": 38,
   "id": "a7d1019a",
   "metadata": {},
   "outputs": [],
   "source": [
    "y_pred = en.predict(X_test)"
   ]
  },
  {
   "cell_type": "code",
   "execution_count": 39,
   "id": "2ecdac49",
   "metadata": {},
   "outputs": [
    {
     "data": {
      "text/plain": [
       "((26,), (26,))"
      ]
     },
     "execution_count": 39,
     "metadata": {},
     "output_type": "execute_result"
    }
   ],
   "source": [
    "y_pred.shape,y_test.shape"
   ]
  },
  {
   "cell_type": "code",
   "execution_count": 40,
   "id": "db706d89",
   "metadata": {},
   "outputs": [
    {
     "data": {
      "text/plain": [
       "2.828605621122141"
      ]
     },
     "execution_count": 40,
     "metadata": {},
     "output_type": "execute_result"
    }
   ],
   "source": [
    "mean_absolute_error(y_test, y_pred)"
   ]
  },
  {
   "cell_type": "code",
   "execution_count": null,
   "id": "668d0da5",
   "metadata": {},
   "outputs": [],
   "source": []
  }
 ],
 "metadata": {
  "kernelspec": {
   "display_name": "Python 3 (ipykernel)",
   "language": "python",
   "name": "python3"
  },
  "language_info": {
   "codemirror_mode": {
    "name": "ipython",
    "version": 3
   },
   "file_extension": ".py",
   "mimetype": "text/x-python",
   "name": "python",
   "nbconvert_exporter": "python",
   "pygments_lexer": "ipython3",
   "version": "3.10.1"
  }
 },
 "nbformat": 4,
 "nbformat_minor": 5
}
